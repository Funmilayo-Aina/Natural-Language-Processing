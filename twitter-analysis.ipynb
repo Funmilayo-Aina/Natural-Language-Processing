{
 "cells": [
  {
   "cell_type": "code",
   "execution_count": 1,
   "id": "1bc00041",
   "metadata": {
    "_cell_guid": "b1076dfc-b9ad-4769-8c92-a6c4dae69d19",
    "_uuid": "8f2839f25d086af736a60e9eeb907d3b93b6e0e5",
    "execution": {
     "iopub.execute_input": "2024-06-09T21:01:20.676205Z",
     "iopub.status.busy": "2024-06-09T21:01:20.675826Z",
     "iopub.status.idle": "2024-06-09T21:01:21.485236Z",
     "shell.execute_reply": "2024-06-09T21:01:21.484222Z"
    },
    "jupyter": {
     "source_hidden": true
    },
    "papermill": {
     "duration": 0.823482,
     "end_time": "2024-06-09T21:01:21.488511",
     "exception": false,
     "start_time": "2024-06-09T21:01:20.665029",
     "status": "completed"
    },
    "tags": []
   },
   "outputs": [
    {
     "name": "stdout",
     "output_type": "stream",
     "text": [
      "/kaggle/input/sentiment140/training.1600000.processed.noemoticon.csv\n"
     ]
    }
   ],
   "source": [
    "# This Python 3 environment comes with many helpful analytics libraries installed\n",
    "# It is defined by the kaggle/python Docker image: https://github.com/kaggle/docker-python\n",
    "# For example, here's several helpful packages to load\n",
    "\n",
    "import numpy as np # linear algebra\n",
    "import pandas as pd # data processing, CSV file I/O (e.g. pd.read_csv)\n",
    "\n",
    "# Input data files are available in the read-only \"../input/\" directory\n",
    "# For example, running this (by clicking run or pressing Shift+Enter) will list all files under the input directory\n",
    "\n",
    "import os\n",
    "for dirname, _, filenames in os.walk('/kaggle/input'):\n",
    "    for filename in filenames:\n",
    "        print(os.path.join(dirname, filename))\n",
    "\n",
    "# You can write up to 20GB to the current directory (/kaggle/working/) that gets preserved as output when you create a version using \"Save & Run All\" \n",
    "# You can also write temporary files to /kaggle/temp/, but they won't be saved outside of the current session"
   ]
  },
  {
   "cell_type": "code",
   "execution_count": 2,
   "id": "f3b9fe42",
   "metadata": {
    "execution": {
     "iopub.execute_input": "2024-06-09T21:01:21.510166Z",
     "iopub.status.busy": "2024-06-09T21:01:21.509207Z",
     "iopub.status.idle": "2024-06-09T21:01:36.379348Z",
     "shell.execute_reply": "2024-06-09T21:01:36.378262Z"
    },
    "papermill": {
     "duration": 14.883149,
     "end_time": "2024-06-09T21:01:36.382079",
     "exception": false,
     "start_time": "2024-06-09T21:01:21.498930",
     "status": "completed"
    },
    "tags": []
   },
   "outputs": [
    {
     "name": "stderr",
     "output_type": "stream",
     "text": [
      "2024-06-09 21:01:24.642714: E external/local_xla/xla/stream_executor/cuda/cuda_dnn.cc:9261] Unable to register cuDNN factory: Attempting to register factory for plugin cuDNN when one has already been registered\n",
      "2024-06-09 21:01:24.642844: E external/local_xla/xla/stream_executor/cuda/cuda_fft.cc:607] Unable to register cuFFT factory: Attempting to register factory for plugin cuFFT when one has already been registered\n",
      "2024-06-09 21:01:24.781027: E external/local_xla/xla/stream_executor/cuda/cuda_blas.cc:1515] Unable to register cuBLAS factory: Attempting to register factory for plugin cuBLAS when one has already been registered\n"
     ]
    }
   ],
   "source": [
    "import numpy as np\n",
    "import matplotlib.pyplot as plt\n",
    "import seaborn as sns\n",
    "import tensorflow as tf\n",
    "import pandas as pd\n",
    "from tensorflow.keras.preprocessing.text import Tokenizer\n",
    "from tensorflow.keras.preprocessing.sequence import pad_sequences\n",
    "from tensorflow.keras.layers import Dense, Embedding, Bidirectional, LSTM\n",
    "import tensorflow_datasets as tfds\n"
   ]
  },
  {
   "cell_type": "code",
   "execution_count": 3,
   "id": "dc5792ce",
   "metadata": {
    "execution": {
     "iopub.execute_input": "2024-06-09T21:01:36.403811Z",
     "iopub.status.busy": "2024-06-09T21:01:36.402695Z",
     "iopub.status.idle": "2024-06-09T21:01:37.444456Z",
     "shell.execute_reply": "2024-06-09T21:01:37.443363Z"
    },
    "papermill": {
     "duration": 1.054639,
     "end_time": "2024-06-09T21:01:37.446657",
     "exception": false,
     "start_time": "2024-06-09T21:01:36.392018",
     "status": "completed"
    },
    "tags": []
   },
   "outputs": [
    {
     "name": "stdout",
     "output_type": "stream",
     "text": [
      "[nltk_data] Downloading package stopwords to /usr/share/nltk_data...\n",
      "[nltk_data]   Package stopwords is already up-to-date!\n"
     ]
    }
   ],
   "source": [
    "import nltk\n",
    "nltk.download('stopwords')\n",
    "from nltk.corpus import stopwords\n",
    "from nltk.stem import SnowballStemmer\n",
    "\n",
    "from sklearn.model_selection import train_test_split\n",
    "from sklearn.preprocessing import LabelEncoder\n",
    "\n",
    "import re\n",
    "\n",
    "%matplotlib inline"
   ]
  },
  {
   "cell_type": "code",
   "execution_count": 4,
   "id": "704413e9",
   "metadata": {
    "execution": {
     "iopub.execute_input": "2024-06-09T21:01:37.482410Z",
     "iopub.status.busy": "2024-06-09T21:01:37.481733Z",
     "iopub.status.idle": "2024-06-09T21:01:43.960243Z",
     "shell.execute_reply": "2024-06-09T21:01:43.959201Z"
    },
    "papermill": {
     "duration": 6.491844,
     "end_time": "2024-06-09T21:01:43.962653",
     "exception": false,
     "start_time": "2024-06-09T21:01:37.470809",
     "status": "completed"
    },
    "tags": []
   },
   "outputs": [
    {
     "data": {
      "text/html": [
       "<div>\n",
       "<style scoped>\n",
       "    .dataframe tbody tr th:only-of-type {\n",
       "        vertical-align: middle;\n",
       "    }\n",
       "\n",
       "    .dataframe tbody tr th {\n",
       "        vertical-align: top;\n",
       "    }\n",
       "\n",
       "    .dataframe thead th {\n",
       "        text-align: right;\n",
       "    }\n",
       "</style>\n",
       "<table border=\"1\" class=\"dataframe\">\n",
       "  <thead>\n",
       "    <tr style=\"text-align: right;\">\n",
       "      <th></th>\n",
       "      <th>0</th>\n",
       "      <th>1</th>\n",
       "      <th>2</th>\n",
       "      <th>3</th>\n",
       "      <th>4</th>\n",
       "      <th>5</th>\n",
       "    </tr>\n",
       "  </thead>\n",
       "  <tbody>\n",
       "    <tr>\n",
       "      <th>0</th>\n",
       "      <td>0</td>\n",
       "      <td>1467810369</td>\n",
       "      <td>Mon Apr 06 22:19:45 PDT 2009</td>\n",
       "      <td>NO_QUERY</td>\n",
       "      <td>_TheSpecialOne_</td>\n",
       "      <td>@switchfoot http://twitpic.com/2y1zl - Awww, t...</td>\n",
       "    </tr>\n",
       "    <tr>\n",
       "      <th>1</th>\n",
       "      <td>0</td>\n",
       "      <td>1467810672</td>\n",
       "      <td>Mon Apr 06 22:19:49 PDT 2009</td>\n",
       "      <td>NO_QUERY</td>\n",
       "      <td>scotthamilton</td>\n",
       "      <td>is upset that he can't update his Facebook by ...</td>\n",
       "    </tr>\n",
       "    <tr>\n",
       "      <th>2</th>\n",
       "      <td>0</td>\n",
       "      <td>1467810917</td>\n",
       "      <td>Mon Apr 06 22:19:53 PDT 2009</td>\n",
       "      <td>NO_QUERY</td>\n",
       "      <td>mattycus</td>\n",
       "      <td>@Kenichan I dived many times for the ball. Man...</td>\n",
       "    </tr>\n",
       "    <tr>\n",
       "      <th>3</th>\n",
       "      <td>0</td>\n",
       "      <td>1467811184</td>\n",
       "      <td>Mon Apr 06 22:19:57 PDT 2009</td>\n",
       "      <td>NO_QUERY</td>\n",
       "      <td>ElleCTF</td>\n",
       "      <td>my whole body feels itchy and like its on fire</td>\n",
       "    </tr>\n",
       "    <tr>\n",
       "      <th>4</th>\n",
       "      <td>0</td>\n",
       "      <td>1467811193</td>\n",
       "      <td>Mon Apr 06 22:19:57 PDT 2009</td>\n",
       "      <td>NO_QUERY</td>\n",
       "      <td>Karoli</td>\n",
       "      <td>@nationwideclass no, it's not behaving at all....</td>\n",
       "    </tr>\n",
       "    <tr>\n",
       "      <th>5</th>\n",
       "      <td>0</td>\n",
       "      <td>1467811372</td>\n",
       "      <td>Mon Apr 06 22:20:00 PDT 2009</td>\n",
       "      <td>NO_QUERY</td>\n",
       "      <td>joy_wolf</td>\n",
       "      <td>@Kwesidei not the whole crew</td>\n",
       "    </tr>\n",
       "    <tr>\n",
       "      <th>6</th>\n",
       "      <td>0</td>\n",
       "      <td>1467811592</td>\n",
       "      <td>Mon Apr 06 22:20:03 PDT 2009</td>\n",
       "      <td>NO_QUERY</td>\n",
       "      <td>mybirch</td>\n",
       "      <td>Need a hug</td>\n",
       "    </tr>\n",
       "    <tr>\n",
       "      <th>7</th>\n",
       "      <td>0</td>\n",
       "      <td>1467811594</td>\n",
       "      <td>Mon Apr 06 22:20:03 PDT 2009</td>\n",
       "      <td>NO_QUERY</td>\n",
       "      <td>coZZ</td>\n",
       "      <td>@LOLTrish hey  long time no see! Yes.. Rains a...</td>\n",
       "    </tr>\n",
       "    <tr>\n",
       "      <th>8</th>\n",
       "      <td>0</td>\n",
       "      <td>1467811795</td>\n",
       "      <td>Mon Apr 06 22:20:05 PDT 2009</td>\n",
       "      <td>NO_QUERY</td>\n",
       "      <td>2Hood4Hollywood</td>\n",
       "      <td>@Tatiana_K nope they didn't have it</td>\n",
       "    </tr>\n",
       "    <tr>\n",
       "      <th>9</th>\n",
       "      <td>0</td>\n",
       "      <td>1467812025</td>\n",
       "      <td>Mon Apr 06 22:20:09 PDT 2009</td>\n",
       "      <td>NO_QUERY</td>\n",
       "      <td>mimismo</td>\n",
       "      <td>@twittera que me muera ?</td>\n",
       "    </tr>\n",
       "  </tbody>\n",
       "</table>\n",
       "</div>"
      ],
      "text/plain": [
       "   0           1                             2         3                4  \\\n",
       "0  0  1467810369  Mon Apr 06 22:19:45 PDT 2009  NO_QUERY  _TheSpecialOne_   \n",
       "1  0  1467810672  Mon Apr 06 22:19:49 PDT 2009  NO_QUERY    scotthamilton   \n",
       "2  0  1467810917  Mon Apr 06 22:19:53 PDT 2009  NO_QUERY         mattycus   \n",
       "3  0  1467811184  Mon Apr 06 22:19:57 PDT 2009  NO_QUERY          ElleCTF   \n",
       "4  0  1467811193  Mon Apr 06 22:19:57 PDT 2009  NO_QUERY           Karoli   \n",
       "5  0  1467811372  Mon Apr 06 22:20:00 PDT 2009  NO_QUERY         joy_wolf   \n",
       "6  0  1467811592  Mon Apr 06 22:20:03 PDT 2009  NO_QUERY          mybirch   \n",
       "7  0  1467811594  Mon Apr 06 22:20:03 PDT 2009  NO_QUERY             coZZ   \n",
       "8  0  1467811795  Mon Apr 06 22:20:05 PDT 2009  NO_QUERY  2Hood4Hollywood   \n",
       "9  0  1467812025  Mon Apr 06 22:20:09 PDT 2009  NO_QUERY          mimismo   \n",
       "\n",
       "                                                   5  \n",
       "0  @switchfoot http://twitpic.com/2y1zl - Awww, t...  \n",
       "1  is upset that he can't update his Facebook by ...  \n",
       "2  @Kenichan I dived many times for the ball. Man...  \n",
       "3    my whole body feels itchy and like its on fire   \n",
       "4  @nationwideclass no, it's not behaving at all....  \n",
       "5                      @Kwesidei not the whole crew   \n",
       "6                                        Need a hug   \n",
       "7  @LOLTrish hey  long time no see! Yes.. Rains a...  \n",
       "8               @Tatiana_K nope they didn't have it   \n",
       "9                          @twittera que me muera ?   "
      ]
     },
     "execution_count": 4,
     "metadata": {},
     "output_type": "execute_result"
    }
   ],
   "source": [
    "df = pd.read_csv('/kaggle/input/sentiment140/training.1600000.processed.noemoticon.csv', encoding = 'latin', header = None)\n",
    "df.head(10)"
   ]
  },
  {
   "cell_type": "code",
   "execution_count": 5,
   "id": "b955cb60",
   "metadata": {
    "execution": {
     "iopub.execute_input": "2024-06-09T21:01:43.984276Z",
     "iopub.status.busy": "2024-06-09T21:01:43.983935Z",
     "iopub.status.idle": "2024-06-09T21:01:43.996896Z",
     "shell.execute_reply": "2024-06-09T21:01:43.995900Z"
    },
    "papermill": {
     "duration": 0.026475,
     "end_time": "2024-06-09T21:01:43.998948",
     "exception": false,
     "start_time": "2024-06-09T21:01:43.972473",
     "status": "completed"
    },
    "tags": []
   },
   "outputs": [
    {
     "data": {
      "text/html": [
       "<div>\n",
       "<style scoped>\n",
       "    .dataframe tbody tr th:only-of-type {\n",
       "        vertical-align: middle;\n",
       "    }\n",
       "\n",
       "    .dataframe tbody tr th {\n",
       "        vertical-align: top;\n",
       "    }\n",
       "\n",
       "    .dataframe thead th {\n",
       "        text-align: right;\n",
       "    }\n",
       "</style>\n",
       "<table border=\"1\" class=\"dataframe\">\n",
       "  <thead>\n",
       "    <tr style=\"text-align: right;\">\n",
       "      <th></th>\n",
       "      <th>sentiment</th>\n",
       "      <th>id</th>\n",
       "      <th>date</th>\n",
       "      <th>query</th>\n",
       "      <th>user_id</th>\n",
       "      <th>text</th>\n",
       "    </tr>\n",
       "  </thead>\n",
       "  <tbody>\n",
       "    <tr>\n",
       "      <th>0</th>\n",
       "      <td>0</td>\n",
       "      <td>1467810369</td>\n",
       "      <td>Mon Apr 06 22:19:45 PDT 2009</td>\n",
       "      <td>NO_QUERY</td>\n",
       "      <td>_TheSpecialOne_</td>\n",
       "      <td>@switchfoot http://twitpic.com/2y1zl - Awww, t...</td>\n",
       "    </tr>\n",
       "    <tr>\n",
       "      <th>1</th>\n",
       "      <td>0</td>\n",
       "      <td>1467810672</td>\n",
       "      <td>Mon Apr 06 22:19:49 PDT 2009</td>\n",
       "      <td>NO_QUERY</td>\n",
       "      <td>scotthamilton</td>\n",
       "      <td>is upset that he can't update his Facebook by ...</td>\n",
       "    </tr>\n",
       "    <tr>\n",
       "      <th>2</th>\n",
       "      <td>0</td>\n",
       "      <td>1467810917</td>\n",
       "      <td>Mon Apr 06 22:19:53 PDT 2009</td>\n",
       "      <td>NO_QUERY</td>\n",
       "      <td>mattycus</td>\n",
       "      <td>@Kenichan I dived many times for the ball. Man...</td>\n",
       "    </tr>\n",
       "    <tr>\n",
       "      <th>3</th>\n",
       "      <td>0</td>\n",
       "      <td>1467811184</td>\n",
       "      <td>Mon Apr 06 22:19:57 PDT 2009</td>\n",
       "      <td>NO_QUERY</td>\n",
       "      <td>ElleCTF</td>\n",
       "      <td>my whole body feels itchy and like its on fire</td>\n",
       "    </tr>\n",
       "    <tr>\n",
       "      <th>4</th>\n",
       "      <td>0</td>\n",
       "      <td>1467811193</td>\n",
       "      <td>Mon Apr 06 22:19:57 PDT 2009</td>\n",
       "      <td>NO_QUERY</td>\n",
       "      <td>Karoli</td>\n",
       "      <td>@nationwideclass no, it's not behaving at all....</td>\n",
       "    </tr>\n",
       "    <tr>\n",
       "      <th>5</th>\n",
       "      <td>0</td>\n",
       "      <td>1467811372</td>\n",
       "      <td>Mon Apr 06 22:20:00 PDT 2009</td>\n",
       "      <td>NO_QUERY</td>\n",
       "      <td>joy_wolf</td>\n",
       "      <td>@Kwesidei not the whole crew</td>\n",
       "    </tr>\n",
       "    <tr>\n",
       "      <th>6</th>\n",
       "      <td>0</td>\n",
       "      <td>1467811592</td>\n",
       "      <td>Mon Apr 06 22:20:03 PDT 2009</td>\n",
       "      <td>NO_QUERY</td>\n",
       "      <td>mybirch</td>\n",
       "      <td>Need a hug</td>\n",
       "    </tr>\n",
       "    <tr>\n",
       "      <th>7</th>\n",
       "      <td>0</td>\n",
       "      <td>1467811594</td>\n",
       "      <td>Mon Apr 06 22:20:03 PDT 2009</td>\n",
       "      <td>NO_QUERY</td>\n",
       "      <td>coZZ</td>\n",
       "      <td>@LOLTrish hey  long time no see! Yes.. Rains a...</td>\n",
       "    </tr>\n",
       "    <tr>\n",
       "      <th>8</th>\n",
       "      <td>0</td>\n",
       "      <td>1467811795</td>\n",
       "      <td>Mon Apr 06 22:20:05 PDT 2009</td>\n",
       "      <td>NO_QUERY</td>\n",
       "      <td>2Hood4Hollywood</td>\n",
       "      <td>@Tatiana_K nope they didn't have it</td>\n",
       "    </tr>\n",
       "    <tr>\n",
       "      <th>9</th>\n",
       "      <td>0</td>\n",
       "      <td>1467812025</td>\n",
       "      <td>Mon Apr 06 22:20:09 PDT 2009</td>\n",
       "      <td>NO_QUERY</td>\n",
       "      <td>mimismo</td>\n",
       "      <td>@twittera que me muera ?</td>\n",
       "    </tr>\n",
       "  </tbody>\n",
       "</table>\n",
       "</div>"
      ],
      "text/plain": [
       "   sentiment          id                          date     query  \\\n",
       "0          0  1467810369  Mon Apr 06 22:19:45 PDT 2009  NO_QUERY   \n",
       "1          0  1467810672  Mon Apr 06 22:19:49 PDT 2009  NO_QUERY   \n",
       "2          0  1467810917  Mon Apr 06 22:19:53 PDT 2009  NO_QUERY   \n",
       "3          0  1467811184  Mon Apr 06 22:19:57 PDT 2009  NO_QUERY   \n",
       "4          0  1467811193  Mon Apr 06 22:19:57 PDT 2009  NO_QUERY   \n",
       "5          0  1467811372  Mon Apr 06 22:20:00 PDT 2009  NO_QUERY   \n",
       "6          0  1467811592  Mon Apr 06 22:20:03 PDT 2009  NO_QUERY   \n",
       "7          0  1467811594  Mon Apr 06 22:20:03 PDT 2009  NO_QUERY   \n",
       "8          0  1467811795  Mon Apr 06 22:20:05 PDT 2009  NO_QUERY   \n",
       "9          0  1467812025  Mon Apr 06 22:20:09 PDT 2009  NO_QUERY   \n",
       "\n",
       "           user_id                                               text  \n",
       "0  _TheSpecialOne_  @switchfoot http://twitpic.com/2y1zl - Awww, t...  \n",
       "1    scotthamilton  is upset that he can't update his Facebook by ...  \n",
       "2         mattycus  @Kenichan I dived many times for the ball. Man...  \n",
       "3          ElleCTF    my whole body feels itchy and like its on fire   \n",
       "4           Karoli  @nationwideclass no, it's not behaving at all....  \n",
       "5         joy_wolf                      @Kwesidei not the whole crew   \n",
       "6          mybirch                                        Need a hug   \n",
       "7             coZZ  @LOLTrish hey  long time no see! Yes.. Rains a...  \n",
       "8  2Hood4Hollywood               @Tatiana_K nope they didn't have it   \n",
       "9          mimismo                          @twittera que me muera ?   "
      ]
     },
     "execution_count": 5,
     "metadata": {},
     "output_type": "execute_result"
    }
   ],
   "source": [
    "df.columns = ['sentiment', 'id', 'date', 'query', 'user_id', 'text']\n",
    "df.head(10)"
   ]
  },
  {
   "cell_type": "code",
   "execution_count": 6,
   "id": "cc274d34",
   "metadata": {
    "execution": {
     "iopub.execute_input": "2024-06-09T21:01:44.021482Z",
     "iopub.status.busy": "2024-06-09T21:01:44.020719Z",
     "iopub.status.idle": "2024-06-09T21:01:44.067296Z",
     "shell.execute_reply": "2024-06-09T21:01:44.066290Z"
    },
    "papermill": {
     "duration": 0.060479,
     "end_time": "2024-06-09T21:01:44.069522",
     "exception": false,
     "start_time": "2024-06-09T21:01:44.009043",
     "status": "completed"
    },
    "tags": []
   },
   "outputs": [
    {
     "data": {
      "text/html": [
       "<div>\n",
       "<style scoped>\n",
       "    .dataframe tbody tr th:only-of-type {\n",
       "        vertical-align: middle;\n",
       "    }\n",
       "\n",
       "    .dataframe tbody tr th {\n",
       "        vertical-align: top;\n",
       "    }\n",
       "\n",
       "    .dataframe thead th {\n",
       "        text-align: right;\n",
       "    }\n",
       "</style>\n",
       "<table border=\"1\" class=\"dataframe\">\n",
       "  <thead>\n",
       "    <tr style=\"text-align: right;\">\n",
       "      <th></th>\n",
       "      <th>sentiment</th>\n",
       "      <th>text</th>\n",
       "    </tr>\n",
       "  </thead>\n",
       "  <tbody>\n",
       "    <tr>\n",
       "      <th>0</th>\n",
       "      <td>0</td>\n",
       "      <td>@switchfoot http://twitpic.com/2y1zl - Awww, t...</td>\n",
       "    </tr>\n",
       "    <tr>\n",
       "      <th>1</th>\n",
       "      <td>0</td>\n",
       "      <td>is upset that he can't update his Facebook by ...</td>\n",
       "    </tr>\n",
       "    <tr>\n",
       "      <th>2</th>\n",
       "      <td>0</td>\n",
       "      <td>@Kenichan I dived many times for the ball. Man...</td>\n",
       "    </tr>\n",
       "    <tr>\n",
       "      <th>3</th>\n",
       "      <td>0</td>\n",
       "      <td>my whole body feels itchy and like its on fire</td>\n",
       "    </tr>\n",
       "    <tr>\n",
       "      <th>4</th>\n",
       "      <td>0</td>\n",
       "      <td>@nationwideclass no, it's not behaving at all....</td>\n",
       "    </tr>\n",
       "    <tr>\n",
       "      <th>5</th>\n",
       "      <td>0</td>\n",
       "      <td>@Kwesidei not the whole crew</td>\n",
       "    </tr>\n",
       "    <tr>\n",
       "      <th>6</th>\n",
       "      <td>0</td>\n",
       "      <td>Need a hug</td>\n",
       "    </tr>\n",
       "    <tr>\n",
       "      <th>7</th>\n",
       "      <td>0</td>\n",
       "      <td>@LOLTrish hey  long time no see! Yes.. Rains a...</td>\n",
       "    </tr>\n",
       "    <tr>\n",
       "      <th>8</th>\n",
       "      <td>0</td>\n",
       "      <td>@Tatiana_K nope they didn't have it</td>\n",
       "    </tr>\n",
       "    <tr>\n",
       "      <th>9</th>\n",
       "      <td>0</td>\n",
       "      <td>@twittera que me muera ?</td>\n",
       "    </tr>\n",
       "  </tbody>\n",
       "</table>\n",
       "</div>"
      ],
      "text/plain": [
       "   sentiment                                               text\n",
       "0          0  @switchfoot http://twitpic.com/2y1zl - Awww, t...\n",
       "1          0  is upset that he can't update his Facebook by ...\n",
       "2          0  @Kenichan I dived many times for the ball. Man...\n",
       "3          0    my whole body feels itchy and like its on fire \n",
       "4          0  @nationwideclass no, it's not behaving at all....\n",
       "5          0                      @Kwesidei not the whole crew \n",
       "6          0                                        Need a hug \n",
       "7          0  @LOLTrish hey  long time no see! Yes.. Rains a...\n",
       "8          0               @Tatiana_K nope they didn't have it \n",
       "9          0                          @twittera que me muera ? "
      ]
     },
     "execution_count": 6,
     "metadata": {},
     "output_type": "execute_result"
    }
   ],
   "source": [
    "df.drop(['id', 'date', 'query', 'user_id'], axis = 1, inplace = True)\n",
    "df.head(10)"
   ]
  },
  {
   "cell_type": "code",
   "execution_count": 7,
   "id": "c9a00035",
   "metadata": {
    "execution": {
     "iopub.execute_input": "2024-06-09T21:01:44.092111Z",
     "iopub.status.busy": "2024-06-09T21:01:44.091148Z",
     "iopub.status.idle": "2024-06-09T21:01:44.198199Z",
     "shell.execute_reply": "2024-06-09T21:01:44.196913Z"
    },
    "papermill": {
     "duration": 0.120702,
     "end_time": "2024-06-09T21:01:44.200616",
     "exception": false,
     "start_time": "2024-06-09T21:01:44.079914",
     "status": "completed"
    },
    "tags": []
   },
   "outputs": [
    {
     "name": "stdout",
     "output_type": "stream",
     "text": [
      "<class 'pandas.core.frame.DataFrame'>\n",
      "RangeIndex: 1600000 entries, 0 to 1599999\n",
      "Data columns (total 2 columns):\n",
      " #   Column     Non-Null Count    Dtype \n",
      "---  ------     --------------    ----- \n",
      " 0   sentiment  1600000 non-null  int64 \n",
      " 1   text       1600000 non-null  object\n",
      "dtypes: int64(1), object(1)\n",
      "memory usage: 24.4+ MB\n"
     ]
    }
   ],
   "source": [
    "df.info()"
   ]
  },
  {
   "cell_type": "code",
   "execution_count": 8,
   "id": "d93b318d",
   "metadata": {
    "execution": {
     "iopub.execute_input": "2024-06-09T21:01:44.222889Z",
     "iopub.status.busy": "2024-06-09T21:01:44.222536Z",
     "iopub.status.idle": "2024-06-09T21:01:44.239144Z",
     "shell.execute_reply": "2024-06-09T21:01:44.238142Z"
    },
    "papermill": {
     "duration": 0.030222,
     "end_time": "2024-06-09T21:01:44.241291",
     "exception": false,
     "start_time": "2024-06-09T21:01:44.211069",
     "status": "completed"
    },
    "tags": []
   },
   "outputs": [
    {
     "data": {
      "text/plain": [
       "array([0, 4])"
      ]
     },
     "execution_count": 8,
     "metadata": {},
     "output_type": "execute_result"
    }
   ],
   "source": [
    "df.sentiment.unique()"
   ]
  },
  {
   "cell_type": "code",
   "execution_count": 9,
   "id": "23ca2541",
   "metadata": {
    "execution": {
     "iopub.execute_input": "2024-06-09T21:01:44.263745Z",
     "iopub.status.busy": "2024-06-09T21:01:44.263349Z",
     "iopub.status.idle": "2024-06-09T21:01:44.287081Z",
     "shell.execute_reply": "2024-06-09T21:01:44.286003Z"
    },
    "papermill": {
     "duration": 0.037557,
     "end_time": "2024-06-09T21:01:44.289273",
     "exception": false,
     "start_time": "2024-06-09T21:01:44.251716",
     "status": "completed"
    },
    "tags": []
   },
   "outputs": [
    {
     "data": {
      "text/plain": [
       "sentiment\n",
       "0    800000\n",
       "4    800000\n",
       "Name: count, dtype: int64"
      ]
     },
     "execution_count": 9,
     "metadata": {},
     "output_type": "execute_result"
    }
   ],
   "source": [
    "df.sentiment.value_counts()"
   ]
  },
  {
   "cell_type": "code",
   "execution_count": 10,
   "id": "403b4535",
   "metadata": {
    "execution": {
     "iopub.execute_input": "2024-06-09T21:01:44.311986Z",
     "iopub.status.busy": "2024-06-09T21:01:44.311600Z",
     "iopub.status.idle": "2024-06-09T21:01:44.687297Z",
     "shell.execute_reply": "2024-06-09T21:01:44.686268Z"
    },
    "papermill": {
     "duration": 0.38963,
     "end_time": "2024-06-09T21:01:44.689507",
     "exception": false,
     "start_time": "2024-06-09T21:01:44.299877",
     "status": "completed"
    },
    "tags": []
   },
   "outputs": [
    {
     "data": {
      "text/plain": [
       "<Axes: xlabel='sentiment', ylabel='count'>"
      ]
     },
     "execution_count": 10,
     "metadata": {},
     "output_type": "execute_result"
    },
    {
     "data": {
      "image/png": "[encoded data removed]",
      "text/plain": [
       "<Figure size 1200x600 with 1 Axes>"
      ]
     },
     "metadata": {},
     "output_type": "display_data"
    }
   ],
   "source": [
    "plt.figure(figsize = (12,6), dpi = 100)\n",
    "sns.countplot(x = 'sentiment', data = df)"
   ]
  },
  {
   "cell_type": "code",
   "execution_count": 11,
   "id": "9da9d692",
   "metadata": {
    "execution": {
     "iopub.execute_input": "2024-06-09T21:01:44.713005Z",
     "iopub.status.busy": "2024-06-09T21:01:44.712644Z",
     "iopub.status.idle": "2024-06-09T21:01:45.085536Z",
     "shell.execute_reply": "2024-06-09T21:01:45.084524Z"
    },
    "papermill": {
     "duration": 0.387462,
     "end_time": "2024-06-09T21:01:45.088026",
     "exception": false,
     "start_time": "2024-06-09T21:01:44.700564",
     "status": "completed"
    },
    "tags": []
   },
   "outputs": [
    {
     "data": {
      "text/html": [
       "<div>\n",
       "<style scoped>\n",
       "    .dataframe tbody tr th:only-of-type {\n",
       "        vertical-align: middle;\n",
       "    }\n",
       "\n",
       "    .dataframe tbody tr th {\n",
       "        vertical-align: top;\n",
       "    }\n",
       "\n",
       "    .dataframe thead th {\n",
       "        text-align: right;\n",
       "    }\n",
       "</style>\n",
       "<table border=\"1\" class=\"dataframe\">\n",
       "  <thead>\n",
       "    <tr style=\"text-align: right;\">\n",
       "      <th></th>\n",
       "      <th>sentiment</th>\n",
       "      <th>text</th>\n",
       "    </tr>\n",
       "  </thead>\n",
       "  <tbody>\n",
       "    <tr>\n",
       "      <th>0</th>\n",
       "      <td>Negative</td>\n",
       "      <td>@switchfoot http://twitpic.com/2y1zl - Awww, t...</td>\n",
       "    </tr>\n",
       "    <tr>\n",
       "      <th>1</th>\n",
       "      <td>Negative</td>\n",
       "      <td>is upset that he can't update his Facebook by ...</td>\n",
       "    </tr>\n",
       "    <tr>\n",
       "      <th>2</th>\n",
       "      <td>Negative</td>\n",
       "      <td>@Kenichan I dived many times for the ball. Man...</td>\n",
       "    </tr>\n",
       "    <tr>\n",
       "      <th>3</th>\n",
       "      <td>Negative</td>\n",
       "      <td>my whole body feels itchy and like its on fire</td>\n",
       "    </tr>\n",
       "    <tr>\n",
       "      <th>4</th>\n",
       "      <td>Negative</td>\n",
       "      <td>@nationwideclass no, it's not behaving at all....</td>\n",
       "    </tr>\n",
       "    <tr>\n",
       "      <th>5</th>\n",
       "      <td>Negative</td>\n",
       "      <td>@Kwesidei not the whole crew</td>\n",
       "    </tr>\n",
       "    <tr>\n",
       "      <th>6</th>\n",
       "      <td>Negative</td>\n",
       "      <td>Need a hug</td>\n",
       "    </tr>\n",
       "    <tr>\n",
       "      <th>7</th>\n",
       "      <td>Negative</td>\n",
       "      <td>@LOLTrish hey  long time no see! Yes.. Rains a...</td>\n",
       "    </tr>\n",
       "    <tr>\n",
       "      <th>8</th>\n",
       "      <td>Negative</td>\n",
       "      <td>@Tatiana_K nope they didn't have it</td>\n",
       "    </tr>\n",
       "    <tr>\n",
       "      <th>9</th>\n",
       "      <td>Negative</td>\n",
       "      <td>@twittera que me muera ?</td>\n",
       "    </tr>\n",
       "  </tbody>\n",
       "</table>\n",
       "</div>"
      ],
      "text/plain": [
       "  sentiment                                               text\n",
       "0  Negative  @switchfoot http://twitpic.com/2y1zl - Awww, t...\n",
       "1  Negative  is upset that he can't update his Facebook by ...\n",
       "2  Negative  @Kenichan I dived many times for the ball. Man...\n",
       "3  Negative    my whole body feels itchy and like its on fire \n",
       "4  Negative  @nationwideclass no, it's not behaving at all....\n",
       "5  Negative                      @Kwesidei not the whole crew \n",
       "6  Negative                                        Need a hug \n",
       "7  Negative  @LOLTrish hey  long time no see! Yes.. Rains a...\n",
       "8  Negative               @Tatiana_K nope they didn't have it \n",
       "9  Negative                          @twittera que me muera ? "
      ]
     },
     "execution_count": 11,
     "metadata": {},
     "output_type": "execute_result"
    }
   ],
   "source": [
    "to_sentiment = {0: 'Negative', 4 : 'Positive'}\n",
    "def label_decoder(label):\n",
    "    return to_sentiment[label]\n",
    "\n",
    "df.sentiment = df.sentiment.apply(label_decoder)\n",
    "df.head(10)"
   ]
  },
  {
   "cell_type": "code",
   "execution_count": 12,
   "id": "65225475",
   "metadata": {
    "execution": {
     "iopub.execute_input": "2024-06-09T21:01:45.112016Z",
     "iopub.status.busy": "2024-06-09T21:01:45.111646Z",
     "iopub.status.idle": "2024-06-09T21:01:45.118420Z",
     "shell.execute_reply": "2024-06-09T21:01:45.117481Z"
    },
    "papermill": {
     "duration": 0.021423,
     "end_time": "2024-06-09T21:01:45.120679",
     "exception": false,
     "start_time": "2024-06-09T21:01:45.099256",
     "status": "completed"
    },
    "tags": []
   },
   "outputs": [
    {
     "data": {
      "text/plain": [
       "\"@switchfoot http://twitpic.com/2y1zl - Awww, that's a bummer.  You shoulda got David Carr of Third Day to do it. ;D\""
      ]
     },
     "execution_count": 12,
     "metadata": {},
     "output_type": "execute_result"
    }
   ],
   "source": [
    "df.text[0]"
   ]
  },
  {
   "cell_type": "code",
   "execution_count": 13,
   "id": "2bf610b4",
   "metadata": {
    "execution": {
     "iopub.execute_input": "2024-06-09T21:01:45.145555Z",
     "iopub.status.busy": "2024-06-09T21:01:45.144629Z",
     "iopub.status.idle": "2024-06-09T21:01:45.151909Z",
     "shell.execute_reply": "2024-06-09T21:01:45.150937Z"
    },
    "papermill": {
     "duration": 0.022097,
     "end_time": "2024-06-09T21:01:45.154097",
     "exception": false,
     "start_time": "2024-06-09T21:01:45.132000",
     "status": "completed"
    },
    "tags": []
   },
   "outputs": [
    {
     "data": {
      "text/plain": [
       "'awww that s a bummer you shoulda got david carr of third day to do it d'"
      ]
     },
     "execution_count": 13,
     "metadata": {},
     "output_type": "execute_result"
    }
   ],
   "source": [
    "text_cleaning_re = \"@\\S+|https?:\\S+|http?:\\S|[^A-Za-z0-9]+\"\n",
    "s = \"@switchfoot http://twitpic.com/2y1zl - Awww, that's a bummer.  You shoulda got David Carr of Third Day to do it. ;D\"\n",
    "s = re.sub(text_cleaning_re, ' ', str(s).lower()).strip()\n",
    "s"
   ]
  },
  {
   "cell_type": "code",
   "execution_count": 14,
   "id": "9b0cd61b",
   "metadata": {
    "execution": {
     "iopub.execute_input": "2024-06-09T21:01:45.178472Z",
     "iopub.status.busy": "2024-06-09T21:01:45.178061Z",
     "iopub.status.idle": "2024-06-09T21:01:45.186513Z",
     "shell.execute_reply": "2024-06-09T21:01:45.185668Z"
    },
    "papermill": {
     "duration": 0.023178,
     "end_time": "2024-06-09T21:01:45.188730",
     "exception": false,
     "start_time": "2024-06-09T21:01:45.165552",
     "status": "completed"
    },
    "tags": []
   },
   "outputs": [],
   "source": [
    "text_cleaning_re = \"@\\S+|https?:\\S+|http?:\\S|[^A-Za-z0-9]+\"\n",
    "\n",
    "stop_words = stopwords.words('english')\n",
    "\n",
    "stemmer = SnowballStemmer('english')"
   ]
  },
  {
   "cell_type": "code",
   "execution_count": 15,
   "id": "fa9c4d6b",
   "metadata": {
    "execution": {
     "iopub.execute_input": "2024-06-09T21:01:45.213005Z",
     "iopub.status.busy": "2024-06-09T21:01:45.212625Z",
     "iopub.status.idle": "2024-06-09T21:01:45.218791Z",
     "shell.execute_reply": "2024-06-09T21:01:45.217722Z"
    },
    "papermill": {
     "duration": 0.02072,
     "end_time": "2024-06-09T21:01:45.220907",
     "exception": false,
     "start_time": "2024-06-09T21:01:45.200187",
     "status": "completed"
    },
    "tags": []
   },
   "outputs": [],
   "source": [
    "def preprocess(text, stem = False):\n",
    "    text = re.sub(text_cleaning_re, ' ', str(text).lower()).strip()\n",
    "    tokens = []\n",
    "    for word in text.split():\n",
    "        if word not in stop_words:\n",
    "            if stem:\n",
    "                tokens.append(stemmer.stem(word))\n",
    "            else:\n",
    "                tokens.append(word)\n",
    "                \n",
    "    return ' '.join(tokens)\n",
    "    \n",
    "    \n"
   ]
  },
  {
   "cell_type": "code",
   "execution_count": 16,
   "id": "16add2f7",
   "metadata": {
    "execution": {
     "iopub.execute_input": "2024-06-09T21:01:45.245368Z",
     "iopub.status.busy": "2024-06-09T21:01:45.244976Z",
     "iopub.status.idle": "2024-06-09T21:01:45.251398Z",
     "shell.execute_reply": "2024-06-09T21:01:45.250476Z"
    },
    "papermill": {
     "duration": 0.021313,
     "end_time": "2024-06-09T21:01:45.253721",
     "exception": false,
     "start_time": "2024-06-09T21:01:45.232408",
     "status": "completed"
    },
    "tags": []
   },
   "outputs": [
    {
     "data": {
      "text/plain": [
       "'awww bummer shoulda got david carr third day'"
      ]
     },
     "execution_count": 16,
     "metadata": {},
     "output_type": "execute_result"
    }
   ],
   "source": [
    "s = \"@switchfoot http://twitpic.com/2y1zl - Awww, that's a bummer.  You shoulda got David Carr of Third Day to do it. ;D\"\n",
    "preprocess(s)"
   ]
  },
  {
   "cell_type": "code",
   "execution_count": 17,
   "id": "0123dd7a",
   "metadata": {
    "execution": {
     "iopub.execute_input": "2024-06-09T21:01:45.278350Z",
     "iopub.status.busy": "2024-06-09T21:01:45.277986Z",
     "iopub.status.idle": "2024-06-09T21:02:39.038668Z",
     "shell.execute_reply": "2024-06-09T21:02:39.037707Z"
    },
    "papermill": {
     "duration": 53.787386,
     "end_time": "2024-06-09T21:02:39.052708",
     "exception": false,
     "start_time": "2024-06-09T21:01:45.265322",
     "status": "completed"
    },
    "tags": []
   },
   "outputs": [
    {
     "data": {
      "text/html": [
       "<div>\n",
       "<style scoped>\n",
       "    .dataframe tbody tr th:only-of-type {\n",
       "        vertical-align: middle;\n",
       "    }\n",
       "\n",
       "    .dataframe tbody tr th {\n",
       "        vertical-align: top;\n",
       "    }\n",
       "\n",
       "    .dataframe thead th {\n",
       "        text-align: right;\n",
       "    }\n",
       "</style>\n",
       "<table border=\"1\" class=\"dataframe\">\n",
       "  <thead>\n",
       "    <tr style=\"text-align: right;\">\n",
       "      <th></th>\n",
       "      <th>sentiment</th>\n",
       "      <th>text</th>\n",
       "    </tr>\n",
       "  </thead>\n",
       "  <tbody>\n",
       "    <tr>\n",
       "      <th>0</th>\n",
       "      <td>Negative</td>\n",
       "      <td>awww bummer shoulda got david carr third day</td>\n",
       "    </tr>\n",
       "    <tr>\n",
       "      <th>1</th>\n",
       "      <td>Negative</td>\n",
       "      <td>upset update facebook texting might cry result...</td>\n",
       "    </tr>\n",
       "    <tr>\n",
       "      <th>2</th>\n",
       "      <td>Negative</td>\n",
       "      <td>dived many times ball managed save 50 rest go ...</td>\n",
       "    </tr>\n",
       "    <tr>\n",
       "      <th>3</th>\n",
       "      <td>Negative</td>\n",
       "      <td>whole body feels itchy like fire</td>\n",
       "    </tr>\n",
       "    <tr>\n",
       "      <th>4</th>\n",
       "      <td>Negative</td>\n",
       "      <td>behaving mad see</td>\n",
       "    </tr>\n",
       "    <tr>\n",
       "      <th>5</th>\n",
       "      <td>Negative</td>\n",
       "      <td>whole crew</td>\n",
       "    </tr>\n",
       "    <tr>\n",
       "      <th>6</th>\n",
       "      <td>Negative</td>\n",
       "      <td>need hug</td>\n",
       "    </tr>\n",
       "    <tr>\n",
       "      <th>7</th>\n",
       "      <td>Negative</td>\n",
       "      <td>hey long time see yes rains bit bit lol fine t...</td>\n",
       "    </tr>\n",
       "    <tr>\n",
       "      <th>8</th>\n",
       "      <td>Negative</td>\n",
       "      <td>nope</td>\n",
       "    </tr>\n",
       "    <tr>\n",
       "      <th>9</th>\n",
       "      <td>Negative</td>\n",
       "      <td>que muera</td>\n",
       "    </tr>\n",
       "  </tbody>\n",
       "</table>\n",
       "</div>"
      ],
      "text/plain": [
       "  sentiment                                               text\n",
       "0  Negative       awww bummer shoulda got david carr third day\n",
       "1  Negative  upset update facebook texting might cry result...\n",
       "2  Negative  dived many times ball managed save 50 rest go ...\n",
       "3  Negative                   whole body feels itchy like fire\n",
       "4  Negative                                   behaving mad see\n",
       "5  Negative                                         whole crew\n",
       "6  Negative                                           need hug\n",
       "7  Negative  hey long time see yes rains bit bit lol fine t...\n",
       "8  Negative                                               nope\n",
       "9  Negative                                          que muera"
      ]
     },
     "execution_count": 17,
     "metadata": {},
     "output_type": "execute_result"
    }
   ],
   "source": [
    "df.text = df.text.apply(preprocess)\n",
    "df.head(10)"
   ]
  },
  {
   "cell_type": "code",
   "execution_count": 18,
   "id": "4095c265",
   "metadata": {
    "execution": {
     "iopub.execute_input": "2024-06-09T21:02:39.077395Z",
     "iopub.status.busy": "2024-06-09T21:02:39.077033Z",
     "iopub.status.idle": "2024-06-09T21:02:39.081757Z",
     "shell.execute_reply": "2024-06-09T21:02:39.080760Z"
    },
    "papermill": {
     "duration": 0.019513,
     "end_time": "2024-06-09T21:02:39.083745",
     "exception": false,
     "start_time": "2024-06-09T21:02:39.064232",
     "status": "completed"
    },
    "tags": []
   },
   "outputs": [],
   "source": [
    "MAX_NB_WORDS = 100000\n",
    "MAX_SEQ_LENGTH = 30"
   ]
  },
  {
   "cell_type": "code",
   "execution_count": 19,
   "id": "ffb7b5a6",
   "metadata": {
    "execution": {
     "iopub.execute_input": "2024-06-09T21:02:39.109667Z",
     "iopub.status.busy": "2024-06-09T21:02:39.108454Z",
     "iopub.status.idle": "2024-06-09T21:02:39.539137Z",
     "shell.execute_reply": "2024-06-09T21:02:39.537920Z"
    },
    "papermill": {
     "duration": 0.446207,
     "end_time": "2024-06-09T21:02:39.541513",
     "exception": false,
     "start_time": "2024-06-09T21:02:39.095306",
     "status": "completed"
    },
    "tags": []
   },
   "outputs": [
    {
     "name": "stdout",
     "output_type": "stream",
     "text": [
      "Size of the training data :  1280000\n",
      "Size of the testing data  :  320000\n"
     ]
    }
   ],
   "source": [
    "train_data, test_data = train_test_split(df, test_size = 0.2, random_state = 5)\n",
    "print('Size of the training data : ', len(train_data))\n",
    "print('Size of the testing data  : ', len(test_data))\n"
   ]
  },
  {
   "cell_type": "code",
   "execution_count": 20,
   "id": "ff36fb91",
   "metadata": {
    "execution": {
     "iopub.execute_input": "2024-06-09T21:02:39.566561Z",
     "iopub.status.busy": "2024-06-09T21:02:39.566152Z",
     "iopub.status.idle": "2024-06-09T21:03:00.595392Z",
     "shell.execute_reply": "2024-06-09T21:03:00.594491Z"
    },
    "papermill": {
     "duration": 21.044756,
     "end_time": "2024-06-09T21:03:00.597925",
     "exception": false,
     "start_time": "2024-06-09T21:02:39.553169",
     "status": "completed"
    },
    "tags": []
   },
   "outputs": [],
   "source": [
    "tokenizer = Tokenizer()\n",
    "tokenizer.fit_on_texts(train_data.text)"
   ]
  },
  {
   "cell_type": "code",
   "execution_count": 21,
   "id": "a91def9d",
   "metadata": {
    "execution": {
     "iopub.execute_input": "2024-06-09T21:03:00.623927Z",
     "iopub.status.busy": "2024-06-09T21:03:00.623055Z",
     "iopub.status.idle": "2024-06-09T21:03:00.628361Z",
     "shell.execute_reply": "2024-06-09T21:03:00.627477Z"
    },
    "papermill": {
     "duration": 0.020555,
     "end_time": "2024-06-09T21:03:00.630402",
     "exception": false,
     "start_time": "2024-06-09T21:03:00.609847",
     "status": "completed"
    },
    "tags": []
   },
   "outputs": [
    {
     "name": "stdout",
     "output_type": "stream",
     "text": [
      "vocab size :  290739\n"
     ]
    }
   ],
   "source": [
    "word_index = tokenizer.word_index\n",
    "vocab_size = len(word_index)\n",
    "print('vocab size : ', vocab_size)"
   ]
  },
  {
   "cell_type": "code",
   "execution_count": 22,
   "id": "22ccb511",
   "metadata": {
    "execution": {
     "iopub.execute_input": "2024-06-09T21:03:00.655343Z",
     "iopub.status.busy": "2024-06-09T21:03:00.654974Z",
     "iopub.status.idle": "2024-06-09T21:03:27.243293Z",
     "shell.execute_reply": "2024-06-09T21:03:27.242214Z"
    },
    "papermill": {
     "duration": 26.603649,
     "end_time": "2024-06-09T21:03:27.245845",
     "exception": false,
     "start_time": "2024-06-09T21:03:00.642196",
     "status": "completed"
    },
    "tags": []
   },
   "outputs": [],
   "source": [
    "x_train = pad_sequences(tokenizer.texts_to_sequences(train_data.text), maxlen = MAX_SEQ_LENGTH)\n",
    "x_test  = pad_sequences(tokenizer.texts_to_sequences(test_data.text), maxlen = MAX_SEQ_LENGTH)"
   ]
  },
  {
   "cell_type": "code",
   "execution_count": 23,
   "id": "09dcfb1e",
   "metadata": {
    "execution": {
     "iopub.execute_input": "2024-06-09T21:03:27.271133Z",
     "iopub.status.busy": "2024-06-09T21:03:27.270743Z",
     "iopub.status.idle": "2024-06-09T21:03:27.275903Z",
     "shell.execute_reply": "2024-06-09T21:03:27.274986Z"
    },
    "papermill": {
     "duration": 0.020125,
     "end_time": "2024-06-09T21:03:27.277996",
     "exception": false,
     "start_time": "2024-06-09T21:03:27.257871",
     "status": "completed"
    },
    "tags": []
   },
   "outputs": [
    {
     "name": "stdout",
     "output_type": "stream",
     "text": [
      "Training data shape :  (1280000, 30)\n",
      "Testing data shape  :  (320000, 30)\n"
     ]
    }
   ],
   "source": [
    "print('Training data shape : ', x_train.shape)\n",
    "print('Testing data shape  : ', x_test.shape)\n"
   ]
  },
  {
   "cell_type": "code",
   "execution_count": 24,
   "id": "9da43a15",
   "metadata": {
    "execution": {
     "iopub.execute_input": "2024-06-09T21:03:27.363495Z",
     "iopub.status.busy": "2024-06-09T21:03:27.362710Z",
     "iopub.status.idle": "2024-06-09T21:03:27.874639Z",
     "shell.execute_reply": "2024-06-09T21:03:27.873580Z"
    },
    "papermill": {
     "duration": 0.585094,
     "end_time": "2024-06-09T21:03:27.876837",
     "exception": false,
     "start_time": "2024-06-09T21:03:27.291743",
     "status": "completed"
    },
    "tags": []
   },
   "outputs": [
    {
     "data": {
      "text/html": [
       "<style>#sk-container-id-1 {color: black;background-color: white;}#sk-container-id-1 pre{padding: 0;}#sk-container-id-1 div.sk-toggleable {background-color: white;}#sk-container-id-1 label.sk-toggleable__label {cursor: pointer;display: block;width: 100%;margin-bottom: 0;padding: 0.3em;box-sizing: border-box;text-align: center;}#sk-container-id-1 label.sk-toggleable__label-arrow:before {content: \"▸\";float: left;margin-right: 0.25em;color: #696969;}#sk-container-id-1 label.sk-toggleable__label-arrow:hover:before {color: black;}#sk-container-id-1 div.sk-estimator:hover label.sk-toggleable__label-arrow:before {color: black;}#sk-container-id-1 div.sk-toggleable__content {max-height: 0;max-width: 0;overflow: hidden;text-align: left;background-color: #f0f8ff;}#sk-container-id-1 div.sk-toggleable__content pre {margin: 0.2em;color: black;border-radius: 0.25em;background-color: #f0f8ff;}#sk-container-id-1 input.sk-toggleable__control:checked~div.sk-toggleable__content {max-height: 200px;max-width: 100%;overflow: auto;}#sk-container-id-1 input.sk-toggleable__control:checked~label.sk-toggleable__label-arrow:before {content: \"▾\";}#sk-container-id-1 div.sk-estimator input.sk-toggleable__control:checked~label.sk-toggleable__label {background-color: #d4ebff;}#sk-container-id-1 div.sk-label input.sk-toggleable__control:checked~label.sk-toggleable__label {background-color: #d4ebff;}#sk-container-id-1 input.sk-hidden--visually {border: 0;clip: rect(1px 1px 1px 1px);clip: rect(1px, 1px, 1px, 1px);height: 1px;margin: -1px;overflow: hidden;padding: 0;position: absolute;width: 1px;}#sk-container-id-1 div.sk-estimator {font-family: monospace;background-color: #f0f8ff;border: 1px dotted black;border-radius: 0.25em;box-sizing: border-box;margin-bottom: 0.5em;}#sk-container-id-1 div.sk-estimator:hover {background-color: #d4ebff;}#sk-container-id-1 div.sk-parallel-item::after {content: \"\";width: 100%;border-bottom: 1px solid gray;flex-grow: 1;}#sk-container-id-1 div.sk-label:hover label.sk-toggleable__label {background-color: #d4ebff;}#sk-container-id-1 div.sk-serial::before {content: \"\";position: absolute;border-left: 1px solid gray;box-sizing: border-box;top: 0;bottom: 0;left: 50%;z-index: 0;}#sk-container-id-1 div.sk-serial {display: flex;flex-direction: column;align-items: center;background-color: white;padding-right: 0.2em;padding-left: 0.2em;position: relative;}#sk-container-id-1 div.sk-item {position: relative;z-index: 1;}#sk-container-id-1 div.sk-parallel {display: flex;align-items: stretch;justify-content: center;background-color: white;position: relative;}#sk-container-id-1 div.sk-item::before, #sk-container-id-1 div.sk-parallel-item::before {content: \"\";position: absolute;border-left: 1px solid gray;box-sizing: border-box;top: 0;bottom: 0;left: 50%;z-index: -1;}#sk-container-id-1 div.sk-parallel-item {display: flex;flex-direction: column;z-index: 1;position: relative;background-color: white;}#sk-container-id-1 div.sk-parallel-item:first-child::after {align-self: flex-end;width: 50%;}#sk-container-id-1 div.sk-parallel-item:last-child::after {align-self: flex-start;width: 50%;}#sk-container-id-1 div.sk-parallel-item:only-child::after {width: 0;}#sk-container-id-1 div.sk-dashed-wrapped {border: 1px dashed gray;margin: 0 0.4em 0.5em 0.4em;box-sizing: border-box;padding-bottom: 0.4em;background-color: white;}#sk-container-id-1 div.sk-label label {font-family: monospace;font-weight: bold;display: inline-block;line-height: 1.2em;}#sk-container-id-1 div.sk-label-container {text-align: center;}#sk-container-id-1 div.sk-container {/* jupyter's `normalize.less` sets `[hidden] { display: none; }` but bootstrap.min.css set `[hidden] { display: none !important; }` so we also need the `!important` here to be able to override the default hidden behavior on the sphinx rendered scikit-learn.org. See: https://github.com/scikit-learn/scikit-learn/issues/21755 */display: inline-block !important;position: relative;}#sk-container-id-1 div.sk-text-repr-fallback {display: none;}</style><div id=\"sk-container-id-1\" class=\"sk-top-container\"><div class=\"sk-text-repr-fallback\"><pre>LabelEncoder()</pre><b>In a Jupyter environment, please rerun this cell to show the HTML representation or trust the notebook. <br />On GitHub, the HTML representation is unable to render, please try loading this page with nbviewer.org.</b></div><div class=\"sk-container\" hidden><div class=\"sk-item\"><div class=\"sk-estimator sk-toggleable\"><input class=\"sk-toggleable__control sk-hidden--visually\" id=\"sk-estimator-id-1\" type=\"checkbox\" checked><label for=\"sk-estimator-id-1\" class=\"sk-toggleable__label sk-toggleable__label-arrow\">LabelEncoder</label><div class=\"sk-toggleable__content\"><pre>LabelEncoder()</pre></div></div></div></div></div>"
      ],
      "text/plain": [
       "LabelEncoder()"
      ]
     },
     "execution_count": 24,
     "metadata": {},
     "output_type": "execute_result"
    }
   ],
   "source": [
    "encoder = LabelEncoder()\n",
    "encoder.fit(train_data.sentiment.to_list())\n"
   ]
  },
  {
   "cell_type": "code",
   "execution_count": 25,
   "id": "665a606c",
   "metadata": {
    "execution": {
     "iopub.execute_input": "2024-06-09T21:03:27.902983Z",
     "iopub.status.busy": "2024-06-09T21:03:27.902614Z",
     "iopub.status.idle": "2024-06-09T21:03:28.785377Z",
     "shell.execute_reply": "2024-06-09T21:03:28.784346Z"
    },
    "papermill": {
     "duration": 0.898639,
     "end_time": "2024-06-09T21:03:28.787874",
     "exception": false,
     "start_time": "2024-06-09T21:03:27.889235",
     "status": "completed"
    },
    "tags": []
   },
   "outputs": [],
   "source": [
    "y_train = encoder.transform(train_data.sentiment.tolist())\n",
    "y_test  = encoder.transform(test_data.sentiment.tolist())"
   ]
  },
  {
   "cell_type": "code",
   "execution_count": 26,
   "id": "718685cb",
   "metadata": {
    "execution": {
     "iopub.execute_input": "2024-06-09T21:03:28.814177Z",
     "iopub.status.busy": "2024-06-09T21:03:28.813808Z",
     "iopub.status.idle": "2024-06-09T21:03:28.818679Z",
     "shell.execute_reply": "2024-06-09T21:03:28.817613Z"
    },
    "papermill": {
     "duration": 0.020504,
     "end_time": "2024-06-09T21:03:28.820715",
     "exception": false,
     "start_time": "2024-06-09T21:03:28.800211",
     "status": "completed"
    },
    "tags": []
   },
   "outputs": [],
   "source": [
    "y_train = y_train.reshape(-1,1)\n",
    "y_test  = y_test.reshape(-1,1)\n",
    "\n"
   ]
  },
  {
   "cell_type": "code",
   "execution_count": 27,
   "id": "8a83096c",
   "metadata": {
    "execution": {
     "iopub.execute_input": "2024-06-09T21:03:28.847533Z",
     "iopub.status.busy": "2024-06-09T21:03:28.846758Z",
     "iopub.status.idle": "2024-06-09T21:03:28.851760Z",
     "shell.execute_reply": "2024-06-09T21:03:28.850810Z"
    },
    "papermill": {
     "duration": 0.02141,
     "end_time": "2024-06-09T21:03:28.854491",
     "exception": false,
     "start_time": "2024-06-09T21:03:28.833081",
     "status": "completed"
    },
    "tags": []
   },
   "outputs": [
    {
     "name": "stdout",
     "output_type": "stream",
     "text": [
      "Training labels shape :  (1280000, 1)\n",
      "Testing labels shape :  (320000, 1)\n"
     ]
    }
   ],
   "source": [
    "print('Training labels shape : ', y_train.shape)\n",
    "print('Testing labels shape : ', y_test.shape)"
   ]
  },
  {
   "cell_type": "code",
   "execution_count": 28,
   "id": "d1ec22d5",
   "metadata": {
    "execution": {
     "iopub.execute_input": "2024-06-09T21:03:28.881076Z",
     "iopub.status.busy": "2024-06-09T21:03:28.880334Z",
     "iopub.status.idle": "2024-06-09T21:06:35.048078Z",
     "shell.execute_reply": "2024-06-09T21:06:35.046901Z"
    },
    "papermill": {
     "duration": 186.183819,
     "end_time": "2024-06-09T21:06:35.050717",
     "exception": false,
     "start_time": "2024-06-09T21:03:28.866898",
     "status": "completed"
    },
    "tags": []
   },
   "outputs": [
    {
     "name": "stdout",
     "output_type": "stream",
     "text": [
      "--2024-06-09 21:03:29--  http://nlp.stanford.edu/data/glove.6B.zip\r\n",
      "Resolving nlp.stanford.edu (nlp.stanford.edu)... 171.64.67.140\r\n",
      "Connecting to nlp.stanford.edu (nlp.stanford.edu)|171.64.67.140|:80... connected.\r\n",
      "HTTP request sent, awaiting response... 302 Found\r\n",
      "Location: https://nlp.stanford.edu/data/glove.6B.zip [following]\r\n",
      "--2024-06-09 21:03:30--  https://nlp.stanford.edu/data/glove.6B.zip\r\n",
      "Connecting to nlp.stanford.edu (nlp.stanford.edu)|171.64.67.140|:443... connected.\r\n",
      "HTTP request sent, awaiting response... 301 Moved Permanently\r\n",
      "Location: https://downloads.cs.stanford.edu/nlp/data/glove.6B.zip [following]\r\n",
      "--2024-06-09 21:03:31--  https://downloads.cs.stanford.edu/nlp/data/glove.6B.zip\r\n",
      "Resolving downloads.cs.stanford.edu (downloads.cs.stanford.edu)... 171.64.64.22\r\n",
      "Connecting to downloads.cs.stanford.edu (downloads.cs.stanford.edu)|171.64.64.22|:443... connected.\r\n",
      "HTTP request sent, awaiting response... 200 OK\r\n",
      "Length: 862182613 (822M) [application/zip]\r\n",
      "Saving to: 'glove.6B.zip'\r\n",
      "\r\n",
      "glove.6B.zip        100%[===================>] 822.24M  5.02MB/s    in 2m 39s  \r\n",
      "\r\n",
      "2024-06-09 21:06:10 (5.18 MB/s) - 'glove.6B.zip' saved [862182613/862182613]\r\n",
      "\r\n",
      "Archive:  glove.6B.zip\r\n",
      "  inflating: glove.6B.50d.txt        \r\n",
      "  inflating: glove.6B.100d.txt       \r\n",
      "  inflating: glove.6B.200d.txt       \r\n",
      "  inflating: glove.6B.300d.txt       \r\n"
     ]
    }
   ],
   "source": [
    "!wget http://nlp.stanford.edu/data/glove.6B.zip\n",
    "!unzip glove.6B.zip"
   ]
  },
  {
   "cell_type": "code",
   "execution_count": 29,
   "id": "fd0572fe",
   "metadata": {
    "execution": {
     "iopub.execute_input": "2024-06-09T21:06:35.175515Z",
     "iopub.status.busy": "2024-06-09T21:06:35.174467Z",
     "iopub.status.idle": "2024-06-09T21:06:35.179831Z",
     "shell.execute_reply": "2024-06-09T21:06:35.178822Z"
    },
    "papermill": {
     "duration": 0.069665,
     "end_time": "2024-06-09T21:06:35.181860",
     "exception": false,
     "start_time": "2024-06-09T21:06:35.112195",
     "status": "completed"
    },
    "tags": []
   },
   "outputs": [],
   "source": [
    "GLOVE_EMB = '/kaggle/working/glove.6B.300d.txt'"
   ]
  },
  {
   "cell_type": "code",
   "execution_count": 30,
   "id": "b235a4ce",
   "metadata": {
    "execution": {
     "iopub.execute_input": "2024-06-09T21:06:35.306174Z",
     "iopub.status.busy": "2024-06-09T21:06:35.305802Z",
     "iopub.status.idle": "2024-06-09T21:07:02.566928Z",
     "shell.execute_reply": "2024-06-09T21:07:02.565799Z"
    },
    "papermill": {
     "duration": 27.325772,
     "end_time": "2024-06-09T21:07:02.569540",
     "exception": false,
     "start_time": "2024-06-09T21:06:35.243768",
     "status": "completed"
    },
    "tags": []
   },
   "outputs": [],
   "source": [
    "embeddings_index = {}\n",
    "f = open(GLOVE_EMB)\n",
    "for line in f:\n",
    "    values = line.split()\n",
    "    word = values[0]\n",
    "    coefs = np.asarray(values[1:], dtype = 'float')\n",
    "    embeddings_index[word] = coefs\n",
    "f.close()"
   ]
  },
  {
   "cell_type": "code",
   "execution_count": 31,
   "id": "04163b49",
   "metadata": {
    "execution": {
     "iopub.execute_input": "2024-06-09T21:07:02.693372Z",
     "iopub.status.busy": "2024-06-09T21:07:02.692966Z",
     "iopub.status.idle": "2024-06-09T21:07:02.698584Z",
     "shell.execute_reply": "2024-06-09T21:07:02.697518Z"
    },
    "papermill": {
     "duration": 0.069904,
     "end_time": "2024-06-09T21:07:02.700829",
     "exception": false,
     "start_time": "2024-06-09T21:07:02.630925",
     "status": "completed"
    },
    "tags": []
   },
   "outputs": [
    {
     "name": "stdout",
     "output_type": "stream",
     "text": [
      "number of embedding vector : 400000\n"
     ]
    }
   ],
   "source": [
    "print('number of embedding vector :', len(embeddings_index))"
   ]
  },
  {
   "cell_type": "code",
   "execution_count": 32,
   "id": "653f2f58",
   "metadata": {
    "execution": {
     "iopub.execute_input": "2024-06-09T21:07:02.825617Z",
     "iopub.status.busy": "2024-06-09T21:07:02.824686Z",
     "iopub.status.idle": "2024-06-09T21:07:02.847381Z",
     "shell.execute_reply": "2024-06-09T21:07:02.846363Z"
    },
    "papermill": {
     "duration": 0.088376,
     "end_time": "2024-06-09T21:07:02.850295",
     "exception": false,
     "start_time": "2024-06-09T21:07:02.761919",
     "status": "completed"
    },
    "tags": []
   },
   "outputs": [
    {
     "name": "stdout",
     "output_type": "stream",
     "text": [
      "the\n",
      "[ 4.6560e-02  2.1318e-01 -7.4364e-03 -4.5854e-01 -3.5639e-02  2.3643e-01\n",
      " -2.8836e-01  2.1521e-01 -1.3486e-01 -1.6413e+00 -2.6091e-01  3.2434e-02\n",
      "  5.6621e-02 -4.3296e-02 -2.1672e-02  2.2476e-01 -7.5129e-02 -6.7018e-02\n",
      " -1.4247e-01  3.8825e-02 -1.8951e-01  2.9977e-01  3.9305e-01  1.7887e-01\n",
      " -1.7343e-01 -2.1178e-01  2.3617e-01 -6.3681e-02 -4.2318e-01 -1.1661e-01\n",
      "  9.3754e-02  1.7296e-01 -3.3073e-01  4.9112e-01 -6.8995e-01 -9.2462e-02\n",
      "  2.4742e-01 -1.7991e-01  9.7908e-02  8.3118e-02  1.5299e-01 -2.7276e-01\n",
      " -3.8934e-02  5.4453e-01  5.3737e-01  2.9105e-01 -7.3514e-03  4.7880e-02\n",
      " -4.0760e-01 -2.6759e-02  1.7919e-01  1.0977e-02 -1.0963e-01 -2.6395e-01\n",
      "  7.3990e-02  2.6236e-01 -1.5080e-01  3.4623e-01  2.5758e-01  1.1971e-01\n",
      " -3.7135e-02 -7.1593e-02  4.3898e-01 -4.0764e-02  1.6425e-02 -4.4640e-01\n",
      "  1.7197e-01  4.6246e-02  5.8639e-02  4.1499e-02  5.3948e-01  5.2495e-01\n",
      "  1.1361e-01 -4.8315e-02 -3.6385e-01  1.8704e-01  9.2761e-02 -1.1129e-01\n",
      " -4.2085e-01  1.3992e-01 -3.9338e-01 -6.7945e-02  1.2188e-01  1.6707e-01\n",
      "  7.5169e-02 -1.5529e-02 -1.9499e-01  1.9638e-01  5.3194e-02  2.5170e-01\n",
      " -3.4845e-01 -1.0638e-01 -3.4692e-01 -1.9024e-01 -2.0040e-01  1.2154e-01\n",
      " -2.9208e-01  2.3353e-02 -1.1618e-01 -3.5768e-01  6.2304e-02  3.5884e-01\n",
      "  2.9060e-02  7.3005e-03  4.9482e-03 -1.5048e-01 -1.2313e-01  1.9337e-01\n",
      "  1.2173e-01  4.4503e-01  2.5147e-01  1.0781e-01 -1.7716e-01  3.8691e-02\n",
      "  8.1530e-02  1.4667e-01  6.3666e-02  6.1332e-02 -7.5569e-02 -3.7724e-01\n",
      "  1.5850e-02 -3.0342e-01  2.8374e-01 -4.2013e-02 -4.0715e-02 -1.5269e-01\n",
      "  7.4980e-02  1.5577e-01  1.0433e-01  3.1393e-01  1.9309e-01  1.9429e-01\n",
      "  1.5185e-01 -1.0192e-01 -1.8785e-02  2.0791e-01  1.3366e-01  1.9038e-01\n",
      " -2.5558e-01  3.0400e-01 -1.8960e-02  2.0147e-01 -4.2110e-01 -7.5156e-03\n",
      " -2.7977e-01 -1.9314e-01  4.6204e-02  1.9971e-01 -3.0207e-01  2.5735e-01\n",
      "  6.8107e-01 -1.9409e-01  2.3984e-01  2.2493e-01  6.5224e-01 -1.3561e-01\n",
      " -1.7383e-01 -4.8209e-02 -1.1860e-01  2.1588e-03 -1.9525e-02  1.1948e-01\n",
      "  1.9346e-01 -4.0820e-01 -8.2966e-02  1.6626e-01 -1.0601e-01  3.5861e-01\n",
      "  1.6922e-01  7.2590e-02 -2.4803e-01 -1.0024e-01 -5.2491e-01 -1.7745e-01\n",
      " -3.6647e-01  2.6180e-01 -1.2077e-02  8.3190e-02 -2.1528e-01  4.1045e-01\n",
      "  2.9136e-01  3.0869e-01  7.8864e-02  3.2207e-01 -4.1023e-02 -1.0970e-01\n",
      " -9.2041e-02 -1.2339e-01 -1.6416e-01  3.5382e-01 -8.2774e-02  3.3171e-01\n",
      " -2.4738e-01 -4.8928e-02  1.5746e-01  1.8988e-01 -2.6642e-02  6.3315e-02\n",
      " -1.0673e-02  3.4089e-01  1.4106e+00  1.3417e-01  2.8191e-01 -2.5940e-01\n",
      "  5.5267e-02 -5.2425e-02 -2.5789e-01  1.9127e-02 -2.2084e-02  3.2113e-01\n",
      "  6.8818e-02  5.1207e-01  1.6478e-01 -2.0194e-01  2.9232e-01  9.8575e-02\n",
      "  1.3145e-02 -1.0652e-01  1.3510e-01 -4.5332e-02  2.0697e-01 -4.8425e-01\n",
      " -4.4706e-01  3.3305e-03  2.9264e-03 -1.0975e-01 -2.3325e-01  2.2442e-01\n",
      " -1.0503e-01  1.2339e-01  1.0978e-01  4.8994e-02 -2.5157e-01  4.0319e-01\n",
      "  3.5318e-01  1.8651e-01 -2.3622e-02 -1.2734e-01  1.1475e-01  2.7359e-01\n",
      " -2.1866e-01  1.5794e-02  8.1754e-01 -2.3792e-02 -8.5469e-01 -1.6203e-01\n",
      "  1.8076e-01  2.8014e-02 -1.4340e-01  1.3139e-03 -9.1735e-02 -8.9704e-02\n",
      "  1.1105e-01 -1.6703e-01  6.8377e-02 -8.7388e-02 -3.9789e-02  1.4184e-02\n",
      "  2.1187e-01  2.8579e-01 -2.8797e-01 -5.8996e-02 -3.2436e-02 -4.7009e-03\n",
      " -1.7052e-01 -3.4741e-02 -1.1489e-01  7.5093e-02  9.9526e-02  4.8183e-02\n",
      " -7.3775e-02 -4.1817e-01  4.1268e-03  4.4414e-01 -1.6062e-01  1.4294e-01\n",
      " -2.2628e+00 -2.7347e-02  8.1311e-01  7.7417e-01 -2.5639e-01 -1.1576e-01\n",
      " -1.1982e-01 -2.1363e-01  2.8429e-02  2.7261e-01  3.1026e-02  9.6782e-02\n",
      "  6.7769e-03  1.4082e-01 -1.3064e-02 -2.9686e-01 -7.9913e-02  1.9500e-01\n",
      "  3.1549e-02  2.8506e-01 -8.7461e-02  9.0611e-03 -2.0989e-01  5.3913e-02]\n",
      ",\n",
      "[-2.5539e-01 -2.5723e-01  1.3169e-01 -4.2688e-02  2.1817e-01 -2.2702e-02\n",
      " -1.7854e-01  1.0756e-01  5.8936e-02 -1.3854e+00  5.8509e-01  3.6501e-02\n",
      " -1.9846e-01  1.9613e-01  4.0929e-01  1.5702e-01 -1.5305e-01  5.0447e-02\n",
      "  3.0045e-01 -1.1295e-01 -1.7043e-02  1.8593e-01  1.9982e-01  2.0053e-01\n",
      " -6.3141e-01 -1.2622e-01  2.9510e-01 -2.6282e-01 -1.5831e-01  1.2383e-03\n",
      "  1.1784e-02  5.8758e-01 -1.5914e-01  2.7731e-01 -8.2343e-01 -2.1134e-01\n",
      "  1.3414e-02  1.9637e-01 -4.1470e-01  1.0276e-03  1.3422e-01 -1.4205e-01\n",
      "  5.1545e-02  3.4993e-01 -2.9868e-01 -3.2090e-01  1.9566e-01  4.7886e-01\n",
      "  1.0744e-01  1.0004e-02  1.8503e-01  8.0694e-02  2.0739e-01 -9.7365e-02\n",
      " -3.9448e-02  2.0151e-02 -1.7378e-01  2.5679e-01  2.4198e-01 -3.5100e-01\n",
      "  1.8759e-01  6.3857e-03  1.8395e-01 -1.3929e-01  8.1855e-03 -6.3109e-01\n",
      "  2.9832e-01  3.1731e-01  1.3022e-01 -3.2284e-01 -5.0343e-02 -1.1400e-01\n",
      "  1.2097e-01  1.4687e-01 -3.3244e-01 -5.5789e-02 -5.8490e-02  2.7551e-01\n",
      " -4.3855e-02  3.9664e-02  1.5162e-01 -8.6627e-02  6.7729e-02  2.3146e-01\n",
      "  1.5351e-02 -1.5142e-01 -3.1975e-02  4.5181e-01 -6.8806e-02 -7.7058e-02\n",
      "  5.5193e-02  5.4596e-02 -2.4708e-01  3.1113e-02 -1.2826e-01  1.2782e-01\n",
      " -4.6708e-01 -2.6264e-02  1.0387e-02 -3.3174e-01  1.7277e-01 -2.6894e-01\n",
      "  2.0467e-01 -1.6181e-01 -4.1519e-02 -1.4878e-02  1.0279e-01  1.8868e-01\n",
      " -2.3396e-01 -1.8436e-02 -1.4747e-01 -3.2685e-01 -2.2055e-02 -5.4000e-02\n",
      "  1.6264e-01  2.7095e-01 -2.2792e-01 -7.7006e-03  1.1206e-01 -3.9787e-02\n",
      " -1.1906e-01  2.1773e-02  5.5280e-02 -1.3318e-01 -5.6867e-02  8.3040e-03\n",
      " -2.7021e-02  2.3447e-01  8.6864e-02  1.2009e-01 -3.0726e-01  2.4735e-03\n",
      "  2.9041e-01 -4.4887e-02  1.2297e-01  1.3077e-01  9.0807e-02 -3.9141e-01\n",
      "  8.0546e-02  1.8724e-01 -9.7481e-02  1.0397e-01  1.1492e-01  1.7775e-01\n",
      " -1.8167e-01  2.4652e-01  2.0136e-01 -2.3395e-01 -3.5018e-01 -1.4061e-01\n",
      "  1.7091e-01 -9.5465e-02 -1.0962e-01 -9.8360e-02  1.5344e-01  8.8680e-02\n",
      " -2.2048e-01 -1.3803e-01 -1.1288e-01 -8.5340e-02  7.2735e-02 -1.2732e-01\n",
      " -1.9640e-01 -1.0586e-01  2.0616e-03  1.3496e-01  5.8912e-02 -4.3979e-02\n",
      " -9.1375e-02  2.4408e-01  1.6872e-01  2.4297e-01 -4.3983e-01  4.7089e-01\n",
      " -1.8595e-02  1.6146e-01  1.9828e-01 -1.7237e-01 -2.6998e-03  5.2097e-01\n",
      " -8.0197e-02  4.3324e-01 -6.6261e-02  4.3240e-02  8.4954e-02 -1.4836e-01\n",
      " -4.1936e-01  1.5988e-01 -1.8411e-01  1.3210e-01  2.7476e-01  2.7279e-01\n",
      " -1.3465e-01 -9.1238e-02 -3.2523e-01  2.7936e-01  2.3296e-02 -3.3472e-01\n",
      "  1.6878e-02 -5.5544e-02  9.2915e-01 -3.3914e-01 -1.4791e-01  1.7301e-02\n",
      "  1.8272e-01  3.5108e-01 -1.1438e-01  1.3228e-01 -2.1064e-02 -2.7453e-01\n",
      " -1.0081e-01 -4.6296e-02  2.1689e-01 -5.6319e-02  1.4651e-01 -2.3536e-02\n",
      "  6.8026e-02 -4.5453e-02 -2.3851e-01 -3.3868e-01  3.1396e-01 -3.1914e-02\n",
      " -1.9217e-02  1.8715e-03 -1.3328e-01  7.0148e-02 -3.9761e-02  7.0801e-02\n",
      "  1.8422e-03 -1.2646e-01  2.8675e-02 -9.5728e-02  2.6673e-01 -3.5536e-01\n",
      "  1.5286e-01  6.4565e-02  1.2647e-01  2.3397e-01 -4.6058e-02  1.3519e-01\n",
      " -1.4549e-01  2.3031e-01  4.2066e-01  1.6267e-01 -1.6541e-01 -2.0155e-03\n",
      "  8.0653e-02 -3.0025e-01 -7.6014e-02  7.0612e-02  3.1570e-01  5.3520e-02\n",
      " -1.0721e-01 -1.3660e-01  3.2214e-01  2.0040e-01  1.1609e-01 -2.2501e-01\n",
      "  1.2155e-01 -1.0851e-01 -6.3187e-02 -2.4553e-01 -5.9751e-02  6.8787e-02\n",
      " -1.1627e-01 -8.3402e-03  5.2044e-03 -2.0159e-01 -2.3663e-02  1.7562e-01\n",
      " -3.1475e-01 -1.1162e-01 -1.2492e-01  1.0949e-01 -2.6913e-01  3.4893e-01\n",
      " -1.6997e+00 -2.4470e-01  3.0292e-01  5.6720e-02 -3.1737e-01  8.3612e-02\n",
      "  9.5949e-02 -1.7590e-01  1.0235e-01  3.6808e-01 -3.4380e-01  2.0607e-01\n",
      "  1.9135e-01  1.0992e-01  7.5968e-02 -1.4359e-02 -7.3794e-02  2.2176e-01\n",
      "  1.4652e-01  5.6686e-01  5.3307e-02 -2.3290e-01 -1.2226e-01  3.5499e-01]\n",
      ".\n",
      "[-1.2559e-01  1.3630e-02  1.0306e-01 -1.0123e-01  9.8128e-02  1.3627e-01\n",
      " -1.0721e-01  2.3697e-01  3.2870e-01 -1.6785e+00  2.2393e-01  1.2409e-01\n",
      " -8.6708e-02  3.3010e-01  3.4375e-01 -8.7582e-04 -2.9658e-01  2.4417e-01\n",
      " -1.1592e-01 -3.5742e-02 -1.0830e-02  2.0776e-01  2.9285e-01 -7.3491e-02\n",
      " -1.8598e-01 -2.0090e-01 -9.5366e-02  6.3732e-03 -1.3620e-01  9.2028e-02\n",
      " -3.9957e-02  1.9027e-01 -1.0456e-01  2.7670e-03 -7.1742e-01 -1.2915e-01\n",
      " -1.3451e-03  2.7002e-01 -5.3023e-02  2.2148e-01  1.3881e-01 -1.5051e-01\n",
      " -1.9150e-01  1.6402e-01  9.7484e-02  5.6841e-02  3.9789e-01  4.0725e-01\n",
      "  1.4802e-01  2.1569e-01 -1.0671e-01 -1.0232e-01  2.4810e-02 -2.2100e-01\n",
      " -1.0720e-02  1.4234e-01 -2.8242e-01  1.9254e-01  8.6720e-02 -3.8970e-01\n",
      "  1.1321e-01  1.3779e-03  6.4009e-03 -1.6206e-01 -8.2153e-02 -5.5397e-01\n",
      "  3.6789e-01 -4.0159e-03  2.0710e-01 -3.7157e-01  2.5135e-01 -1.9544e-01\n",
      " -4.7059e-02  1.7155e-01 -2.4036e-01 -4.6086e-02  1.9429e-01 -1.8939e-01\n",
      " -7.1974e-03  6.9481e-02  5.9175e-02 -1.7585e-01  1.0653e-01  1.6933e-01\n",
      " -3.6122e-02  2.9911e-02 -1.1830e-01  1.3916e-01 -3.7951e-02  1.0690e-01\n",
      " -2.6069e-01 -1.0307e-01 -1.2272e-01 -1.5032e-01 -4.2409e-02  1.3354e-02\n",
      " -2.8510e-01  1.1248e-02  1.6073e-01 -1.6384e-01  2.1233e-01 -1.8476e-01\n",
      " -9.0874e-04  6.6687e-02  1.6918e-01 -3.5004e-01  9.9016e-02  4.6393e-01\n",
      " -1.9462e-01  1.0346e-01 -2.5668e-01 -3.6516e-01 -1.8963e-01 -2.1933e-01\n",
      "  2.4634e-02  6.5627e-02 -1.1120e-01 -1.6400e-01  1.0874e-02 -8.4688e-02\n",
      " -1.4923e-01 -7.0223e-02  2.8887e-02  8.3497e-02 -1.6193e-02 -2.4926e-03\n",
      "  1.7186e-01  9.8749e-03  8.0237e-02  1.4774e-01  4.3206e-02  2.7716e-01\n",
      "  5.7697e-01 -4.1297e-02  1.2765e-01 -9.1517e-02  1.4132e-01  8.7579e-02\n",
      "  9.3224e-02  1.5346e-02 -1.9856e-01  1.7277e-02 -1.0708e-01 -1.3059e-02\n",
      " -3.7227e-01  7.8568e-02  1.6677e-01 -1.5359e-01 -3.3294e-01  3.6986e-02\n",
      "  1.1697e-01  3.9781e-02  3.8464e-02 -1.6247e-01  4.1280e-01 -7.7491e-02\n",
      "  4.5490e-02  1.1330e-01  8.2177e-03 -2.5052e-01  7.0966e-02 -1.1388e-01\n",
      " -1.1503e-01 -1.1014e-01  1.0499e-01  1.5878e-01 -2.7023e-01 -1.1006e-02\n",
      "  7.6057e-04  3.3902e-01  2.5564e-01  1.6342e-01 -5.6019e-01  1.3055e-01\n",
      "  7.6311e-02 -2.8334e-02  2.8721e-01 -2.7844e-02 -1.1561e-01  3.4925e-01\n",
      " -1.2420e-01  2.1405e-01  2.4116e-01 -3.1343e-02  1.0913e-01 -2.4755e-01\n",
      " -4.5429e-02 -8.2178e-02 -1.8831e-01  1.8446e-01 -9.7074e-02  3.2395e-01\n",
      "  1.0658e-01 -2.6676e-01 -2.7311e-01  1.7181e-02  2.5796e-01 -2.8048e-01\n",
      "  3.0790e-01 -2.1800e-01  8.7415e-01 -1.2297e-01  1.0991e-01 -2.9797e-01\n",
      "  1.3394e-01  1.0615e-01 -1.0789e-01 -3.5976e-01 -1.8311e-01 -4.5133e-01\n",
      "  3.4967e-02 -1.9847e-01  2.1965e-01  8.1520e-02  2.5810e-01  4.0173e-02\n",
      "  3.1394e-02  1.9069e-01  7.5800e-02 -6.0638e-02  2.0739e-01  9.8390e-03\n",
      " -2.6930e-01  6.6515e-02 -1.0711e-01  5.9916e-03  2.3284e-01 -5.8663e-02\n",
      "  9.8993e-02 -8.1464e-02  6.7004e-02 -1.4305e-01  2.5506e-01 -3.1971e-01\n",
      " -3.1070e-02 -9.2451e-02  2.9440e-01  2.8947e-01 -5.9804e-02  2.4286e-01\n",
      " -1.6755e-01  4.2031e-02  5.1261e-01  2.4525e-01 -6.5983e-01  6.2456e-02\n",
      "  5.2204e-02 -2.5717e-02 -8.0613e-02  8.0869e-02  2.2821e-01 -1.0217e-01\n",
      " -2.0719e-01 -1.2123e-02  3.4916e-01  8.6527e-02  6.6288e-02 -9.9828e-02\n",
      "  2.5843e-01  1.1943e-01 -1.3667e-01 -4.3962e-01  2.3704e-01  3.1296e-02\n",
      "  7.4701e-02 -2.2387e-01  7.8162e-03 -1.9016e-01  4.4444e-02  2.0191e-01\n",
      " -2.0814e-01 -2.8382e-01  1.0427e-01 -2.1098e-01  1.8865e-01  3.1659e-01\n",
      " -2.0753e+00 -7.1045e-02  5.2419e-01  5.6023e-02 -2.5295e-01 -6.2168e-02\n",
      " -1.0989e-01 -3.5755e-01 -7.9244e-02  3.7472e-01 -2.8353e-01  1.6337e-01\n",
      "  1.1165e-01 -9.8002e-02  6.0148e-02 -1.5619e-01 -1.1949e-01  2.3445e-01\n",
      "  8.1367e-02  2.4618e-01 -1.5242e-01 -3.4224e-01 -2.2394e-02  1.3684e-01]\n"
     ]
    }
   ],
   "source": [
    "count=1\n",
    "for word,vector in embeddings_index.items():\n",
    "    if count>3:\n",
    "        break\n",
    "    print(word)\n",
    "    print(vector)\n",
    "    count+=1\n",
    "    \n",
    "\n"
   ]
  },
  {
   "cell_type": "code",
   "execution_count": null,
   "id": "8a6c214c",
   "metadata": {
    "papermill": {
     "duration": 0.060674,
     "end_time": "2024-06-09T21:07:02.972624",
     "exception": false,
     "start_time": "2024-06-09T21:07:02.911950",
     "status": "completed"
    },
    "tags": []
   },
   "outputs": [],
   "source": []
  },
  {
   "cell_type": "code",
   "execution_count": 33,
   "id": "f6945cd1",
   "metadata": {
    "execution": {
     "iopub.execute_input": "2024-06-09T21:07:03.097071Z",
     "iopub.status.busy": "2024-06-09T21:07:03.096703Z",
     "iopub.status.idle": "2024-06-09T21:07:03.680311Z",
     "shell.execute_reply": "2024-06-09T21:07:03.679454Z"
    },
    "papermill": {
     "duration": 0.648615,
     "end_time": "2024-06-09T21:07:03.682823",
     "exception": false,
     "start_time": "2024-06-09T21:07:03.034208",
     "status": "completed"
    },
    "tags": []
   },
   "outputs": [],
   "source": [
    "EMBEDDING_DIM = 300\n",
    "embedding_matrix = np.zeros((vocab_size, EMBEDDING_DIM))\n",
    "for word,token in word_index.items():\n",
    "    embedding_vector = embeddings_index.get(word)\n",
    "    if embedding_vector is not None:\n",
    "        embedding_matrix[token] = embedding_vector"
   ]
  },
  {
   "cell_type": "code",
   "execution_count": null,
   "id": "a73ccdbf",
   "metadata": {
    "papermill": {
     "duration": 0.060818,
     "end_time": "2024-06-09T21:07:03.804906",
     "exception": false,
     "start_time": "2024-06-09T21:07:03.744088",
     "status": "completed"
    },
    "tags": []
   },
   "outputs": [],
   "source": []
  },
  {
   "cell_type": "code",
   "execution_count": 34,
   "id": "7bd683d5",
   "metadata": {
    "execution": {
     "iopub.execute_input": "2024-06-09T21:07:03.929953Z",
     "iopub.status.busy": "2024-06-09T21:07:03.929248Z",
     "iopub.status.idle": "2024-06-09T21:07:05.805012Z",
     "shell.execute_reply": "2024-06-09T21:07:05.804018Z"
    },
    "papermill": {
     "duration": 1.941342,
     "end_time": "2024-06-09T21:07:05.808072",
     "exception": false,
     "start_time": "2024-06-09T21:07:03.866730",
     "status": "completed"
    },
    "tags": []
   },
   "outputs": [
    {
     "name": "stderr",
     "output_type": "stream",
     "text": [
      "/opt/conda/lib/python3.10/site-packages/keras/src/layers/core/embedding.py:90: UserWarning: Argument `input_length` is deprecated. Just remove it.\n",
      "  warnings.warn(\n"
     ]
    }
   ],
   "source": [
    "        \n",
    "embedding_layer = Embedding(vocab_size,\n",
    "                            EMBEDDING_DIM,\n",
    "                            weights = [embedding_matrix],\n",
    "                            input_length = MAX_SEQ_LENGTH,\n",
    "                            trainable = False)"
   ]
  },
  {
   "cell_type": "code",
   "execution_count": null,
   "id": "dc14e497",
   "metadata": {
    "papermill": {
     "duration": 0.067688,
     "end_time": "2024-06-09T21:07:05.944088",
     "exception": false,
     "start_time": "2024-06-09T21:07:05.876400",
     "status": "completed"
    },
    "tags": []
   },
   "outputs": [],
   "source": []
  },
  {
   "cell_type": "code",
   "execution_count": null,
   "id": "6db1f803",
   "metadata": {
    "papermill": {
     "duration": 0.067257,
     "end_time": "2024-06-09T21:07:06.078984",
     "exception": false,
     "start_time": "2024-06-09T21:07:06.011727",
     "status": "completed"
    },
    "tags": []
   },
   "outputs": [],
   "source": []
  },
  {
   "cell_type": "code",
   "execution_count": null,
   "id": "6f5266f4",
   "metadata": {
    "papermill": {
     "duration": 0.067615,
     "end_time": "2024-06-09T21:07:06.216330",
     "exception": false,
     "start_time": "2024-06-09T21:07:06.148715",
     "status": "completed"
    },
    "tags": []
   },
   "outputs": [],
   "source": []
  },
  {
   "cell_type": "code",
   "execution_count": null,
   "id": "47af2666",
   "metadata": {
    "papermill": {
     "duration": 0.067451,
     "end_time": "2024-06-09T21:07:06.353493",
     "exception": false,
     "start_time": "2024-06-09T21:07:06.286042",
     "status": "completed"
    },
    "tags": []
   },
   "outputs": [],
   "source": []
  },
  {
   "cell_type": "code",
   "execution_count": null,
   "id": "ca8c04c9",
   "metadata": {
    "papermill": {
     "duration": 0.061965,
     "end_time": "2024-06-09T21:07:06.483144",
     "exception": false,
     "start_time": "2024-06-09T21:07:06.421179",
     "status": "completed"
    },
    "tags": []
   },
   "outputs": [],
   "source": []
  },
  {
   "cell_type": "code",
   "execution_count": null,
   "id": "1d39759e",
   "metadata": {
    "papermill": {
     "duration": 0.061883,
     "end_time": "2024-06-09T21:07:06.607583",
     "exception": false,
     "start_time": "2024-06-09T21:07:06.545700",
     "status": "completed"
    },
    "tags": []
   },
   "outputs": [],
   "source": []
  },
  {
   "cell_type": "code",
   "execution_count": null,
   "id": "8899452f",
   "metadata": {
    "papermill": {
     "duration": 0.060684,
     "end_time": "2024-06-09T21:07:06.729979",
     "exception": false,
     "start_time": "2024-06-09T21:07:06.669295",
     "status": "completed"
    },
    "tags": []
   },
   "outputs": [],
   "source": []
  },
  {
   "cell_type": "code",
   "execution_count": null,
   "id": "a18cbffb",
   "metadata": {
    "papermill": {
     "duration": 0.060554,
     "end_time": "2024-06-09T21:07:06.852244",
     "exception": false,
     "start_time": "2024-06-09T21:07:06.791690",
     "status": "completed"
    },
    "tags": []
   },
   "outputs": [],
   "source": []
  },
  {
   "cell_type": "code",
   "execution_count": null,
   "id": "da16d4b2",
   "metadata": {
    "papermill": {
     "duration": 0.060404,
     "end_time": "2024-06-09T21:07:06.973816",
     "exception": false,
     "start_time": "2024-06-09T21:07:06.913412",
     "status": "completed"
    },
    "tags": []
   },
   "outputs": [],
   "source": []
  }
 ],
 "metadata": {
  "kaggle": {
   "accelerator": "none",
   "dataSources": [
    {
     "datasetId": 2477,
     "sourceId": 4140,
     "sourceType": "datasetVersion"
    }
   ],
   "dockerImageVersionId": 30733,
   "isGpuEnabled": false,
   "isInternetEnabled": true,
   "language": "python",
   "sourceType": "notebook"
  },
  "kernelspec": {
   "display_name": "Python 3",
   "language": "python",
   "name": "python3"
  },
  "language_info": {
   "codemirror_mode": {
    "name": "ipython",
    "version": 3
   },
   "file_extension": ".py",
   "mimetype": "text/x-python",
   "name": "python",
   "nbconvert_exporter": "python",
   "pygments_lexer": "ipython3",
   "version": "3.10.13"
  },
  "papermill": {
   "default_parameters": {},
   "duration": 351.698964,
   "end_time": "2024-06-09T21:07:09.765994",
   "environment_variables": {},
   "exception": null,
   "input_path": "__notebook__.ipynb",
   "output_path": "__notebook__.ipynb",
   "parameters": {},
   "start_time": "2024-06-09T21:01:18.067030",
   "version": "2.5.0"
  }
 },
 "nbformat": 4,
 "nbformat_minor": 5
}
