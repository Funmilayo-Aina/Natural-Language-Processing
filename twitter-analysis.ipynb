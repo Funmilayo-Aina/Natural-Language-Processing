{
 "cells": [
  {
   "cell_type": "code",
   "execution_count": 1,
   "id": "6a54861b",
   "metadata": {
    "_cell_guid": "b1076dfc-b9ad-4769-8c92-a6c4dae69d19",
    "_uuid": "8f2839f25d086af736a60e9eeb907d3b93b6e0e5",
    "execution": {
     "iopub.execute_input": "2024-06-09T20:47:26.204173Z",
     "iopub.status.busy": "2024-06-09T20:47:26.203763Z",
     "iopub.status.idle": "2024-06-09T20:47:27.007097Z",
     "shell.execute_reply": "2024-06-09T20:47:27.006070Z"
    },
    "jupyter": {
     "source_hidden": true
    },
    "papermill": {
     "duration": 0.821181,
     "end_time": "2024-06-09T20:47:27.009353",
     "exception": false,
     "start_time": "2024-06-09T20:47:26.188172",
     "status": "completed"
    },
    "tags": []
   },
   "outputs": [
    {
     "name": "stdout",
     "output_type": "stream",
     "text": [
      "/kaggle/input/sentiment140/training.1600000.processed.noemoticon.csv\n"
     ]
    }
   ],
   "source": [
    "# This Python 3 environment comes with many helpful analytics libraries installed\n",
    "# It is defined by the kaggle/python Docker image: https://github.com/kaggle/docker-python\n",
    "# For example, here's several helpful packages to load\n",
    "\n",
    "import numpy as np # linear algebra\n",
    "import pandas as pd # data processing, CSV file I/O (e.g. pd.read_csv)\n",
    "\n",
    "# Input data files are available in the read-only \"../input/\" directory\n",
    "# For example, running this (by clicking run or pressing Shift+Enter) will list all files under the input directory\n",
    "\n",
    "import os\n",
    "for dirname, _, filenames in os.walk('/kaggle/input'):\n",
    "    for filename in filenames:\n",
    "        print(os.path.join(dirname, filename))\n",
    "\n",
    "# You can write up to 20GB to the current directory (/kaggle/working/) that gets preserved as output when you create a version using \"Save & Run All\" \n",
    "# You can also write temporary files to /kaggle/temp/, but they won't be saved outside of the current session"
   ]
  },
  {
   "cell_type": "code",
   "execution_count": 2,
   "id": "b67e073d",
   "metadata": {
    "execution": {
     "iopub.execute_input": "2024-06-09T20:47:27.031430Z",
     "iopub.status.busy": "2024-06-09T20:47:27.030999Z",
     "iopub.status.idle": "2024-06-09T20:47:41.269483Z",
     "shell.execute_reply": "2024-06-09T20:47:41.268702Z"
    },
    "papermill": {
     "duration": 14.251732,
     "end_time": "2024-06-09T20:47:41.271690",
     "exception": false,
     "start_time": "2024-06-09T20:47:27.019958",
     "status": "completed"
    },
    "tags": []
   },
   "outputs": [
    {
     "name": "stderr",
     "output_type": "stream",
     "text": [
      "2024-06-09 20:47:29.962998: E external/local_xla/xla/stream_executor/cuda/cuda_dnn.cc:9261] Unable to register cuDNN factory: Attempting to register factory for plugin cuDNN when one has already been registered\n",
      "2024-06-09 20:47:29.963120: E external/local_xla/xla/stream_executor/cuda/cuda_fft.cc:607] Unable to register cuFFT factory: Attempting to register factory for plugin cuFFT when one has already been registered\n",
      "2024-06-09 20:47:30.105806: E external/local_xla/xla/stream_executor/cuda/cuda_blas.cc:1515] Unable to register cuBLAS factory: Attempting to register factory for plugin cuBLAS when one has already been registered\n"
     ]
    }
   ],
   "source": [
    "import numpy as np\n",
    "import matplotlib.pyplot as plt\n",
    "import seaborn as sns\n",
    "import tensorflow as tf\n",
    "import pandas as pd\n",
    "from tensorflow.keras.preprocessing.text import Tokenizer\n",
    "from tensorflow.keras.preprocessing.sequence import pad_sequences\n",
    "from tensorflow.keras.layers import Dense, Embedding, Bidirectional, LSTM\n",
    "import tensorflow_datasets as tfds\n"
   ]
  },
  {
   "cell_type": "code",
   "execution_count": 3,
   "id": "3ac2d791",
   "metadata": {
    "execution": {
     "iopub.execute_input": "2024-06-09T20:47:41.294059Z",
     "iopub.status.busy": "2024-06-09T20:47:41.293516Z",
     "iopub.status.idle": "2024-06-09T20:47:42.025797Z",
     "shell.execute_reply": "2024-06-09T20:47:42.024801Z"
    },
    "papermill": {
     "duration": 0.745649,
     "end_time": "2024-06-09T20:47:42.027977",
     "exception": false,
     "start_time": "2024-06-09T20:47:41.282328",
     "status": "completed"
    },
    "tags": []
   },
   "outputs": [
    {
     "name": "stdout",
     "output_type": "stream",
     "text": [
      "[nltk_data] Downloading package stopwords to /usr/share/nltk_data...\n",
      "[nltk_data]   Package stopwords is already up-to-date!\n"
     ]
    }
   ],
   "source": [
    "import nltk\n",
    "nltk.download('stopwords')\n",
    "from nltk.corpus import stopwords\n",
    "from nltk.stem import SnowballStemmer\n",
    "\n",
    "from sklearn.model_selection import train_test_split\n",
    "from sklearn.preprocessing import LabelEncoder\n",
    "\n",
    "import re\n",
    "\n",
    "%matplotlib inline"
   ]
  },
  {
   "cell_type": "code",
   "execution_count": 4,
   "id": "c00dfa8d",
   "metadata": {
    "execution": {
     "iopub.execute_input": "2024-06-09T20:47:42.050719Z",
     "iopub.status.busy": "2024-06-09T20:47:42.050420Z",
     "iopub.status.idle": "2024-06-09T20:47:47.970748Z",
     "shell.execute_reply": "2024-06-09T20:47:47.969858Z"
    },
    "papermill": {
     "duration": 5.934481,
     "end_time": "2024-06-09T20:47:47.972928",
     "exception": false,
     "start_time": "2024-06-09T20:47:42.038447",
     "status": "completed"
    },
    "tags": []
   },
   "outputs": [
    {
     "data": {
      "text/html": [
       "<div>\n",
       "<style scoped>\n",
       "    .dataframe tbody tr th:only-of-type {\n",
       "        vertical-align: middle;\n",
       "    }\n",
       "\n",
       "    .dataframe tbody tr th {\n",
       "        vertical-align: top;\n",
       "    }\n",
       "\n",
       "    .dataframe thead th {\n",
       "        text-align: right;\n",
       "    }\n",
       "</style>\n",
       "<table border=\"1\" class=\"dataframe\">\n",
       "  <thead>\n",
       "    <tr style=\"text-align: right;\">\n",
       "      <th></th>\n",
       "      <th>0</th>\n",
       "      <th>1</th>\n",
       "      <th>2</th>\n",
       "      <th>3</th>\n",
       "      <th>4</th>\n",
       "      <th>5</th>\n",
       "    </tr>\n",
       "  </thead>\n",
       "  <tbody>\n",
       "    <tr>\n",
       "      <th>0</th>\n",
       "      <td>0</td>\n",
       "      <td>1467810369</td>\n",
       "      <td>Mon Apr 06 22:19:45 PDT 2009</td>\n",
       "      <td>NO_QUERY</td>\n",
       "      <td>_TheSpecialOne_</td>\n",
       "      <td>@switchfoot http://twitpic.com/2y1zl - Awww, t...</td>\n",
       "    </tr>\n",
       "    <tr>\n",
       "      <th>1</th>\n",
       "      <td>0</td>\n",
       "      <td>1467810672</td>\n",
       "      <td>Mon Apr 06 22:19:49 PDT 2009</td>\n",
       "      <td>NO_QUERY</td>\n",
       "      <td>scotthamilton</td>\n",
       "      <td>is upset that he can't update his Facebook by ...</td>\n",
       "    </tr>\n",
       "    <tr>\n",
       "      <th>2</th>\n",
       "      <td>0</td>\n",
       "      <td>1467810917</td>\n",
       "      <td>Mon Apr 06 22:19:53 PDT 2009</td>\n",
       "      <td>NO_QUERY</td>\n",
       "      <td>mattycus</td>\n",
       "      <td>@Kenichan I dived many times for the ball. Man...</td>\n",
       "    </tr>\n",
       "    <tr>\n",
       "      <th>3</th>\n",
       "      <td>0</td>\n",
       "      <td>1467811184</td>\n",
       "      <td>Mon Apr 06 22:19:57 PDT 2009</td>\n",
       "      <td>NO_QUERY</td>\n",
       "      <td>ElleCTF</td>\n",
       "      <td>my whole body feels itchy and like its on fire</td>\n",
       "    </tr>\n",
       "    <tr>\n",
       "      <th>4</th>\n",
       "      <td>0</td>\n",
       "      <td>1467811193</td>\n",
       "      <td>Mon Apr 06 22:19:57 PDT 2009</td>\n",
       "      <td>NO_QUERY</td>\n",
       "      <td>Karoli</td>\n",
       "      <td>@nationwideclass no, it's not behaving at all....</td>\n",
       "    </tr>\n",
       "    <tr>\n",
       "      <th>5</th>\n",
       "      <td>0</td>\n",
       "      <td>1467811372</td>\n",
       "      <td>Mon Apr 06 22:20:00 PDT 2009</td>\n",
       "      <td>NO_QUERY</td>\n",
       "      <td>joy_wolf</td>\n",
       "      <td>@Kwesidei not the whole crew</td>\n",
       "    </tr>\n",
       "    <tr>\n",
       "      <th>6</th>\n",
       "      <td>0</td>\n",
       "      <td>1467811592</td>\n",
       "      <td>Mon Apr 06 22:20:03 PDT 2009</td>\n",
       "      <td>NO_QUERY</td>\n",
       "      <td>mybirch</td>\n",
       "      <td>Need a hug</td>\n",
       "    </tr>\n",
       "    <tr>\n",
       "      <th>7</th>\n",
       "      <td>0</td>\n",
       "      <td>1467811594</td>\n",
       "      <td>Mon Apr 06 22:20:03 PDT 2009</td>\n",
       "      <td>NO_QUERY</td>\n",
       "      <td>coZZ</td>\n",
       "      <td>@LOLTrish hey  long time no see! Yes.. Rains a...</td>\n",
       "    </tr>\n",
       "    <tr>\n",
       "      <th>8</th>\n",
       "      <td>0</td>\n",
       "      <td>1467811795</td>\n",
       "      <td>Mon Apr 06 22:20:05 PDT 2009</td>\n",
       "      <td>NO_QUERY</td>\n",
       "      <td>2Hood4Hollywood</td>\n",
       "      <td>@Tatiana_K nope they didn't have it</td>\n",
       "    </tr>\n",
       "    <tr>\n",
       "      <th>9</th>\n",
       "      <td>0</td>\n",
       "      <td>1467812025</td>\n",
       "      <td>Mon Apr 06 22:20:09 PDT 2009</td>\n",
       "      <td>NO_QUERY</td>\n",
       "      <td>mimismo</td>\n",
       "      <td>@twittera que me muera ?</td>\n",
       "    </tr>\n",
       "  </tbody>\n",
       "</table>\n",
       "</div>"
      ],
      "text/plain": [
       "   0           1                             2         3                4  \\\n",
       "0  0  1467810369  Mon Apr 06 22:19:45 PDT 2009  NO_QUERY  _TheSpecialOne_   \n",
       "1  0  1467810672  Mon Apr 06 22:19:49 PDT 2009  NO_QUERY    scotthamilton   \n",
       "2  0  1467810917  Mon Apr 06 22:19:53 PDT 2009  NO_QUERY         mattycus   \n",
       "3  0  1467811184  Mon Apr 06 22:19:57 PDT 2009  NO_QUERY          ElleCTF   \n",
       "4  0  1467811193  Mon Apr 06 22:19:57 PDT 2009  NO_QUERY           Karoli   \n",
       "5  0  1467811372  Mon Apr 06 22:20:00 PDT 2009  NO_QUERY         joy_wolf   \n",
       "6  0  1467811592  Mon Apr 06 22:20:03 PDT 2009  NO_QUERY          mybirch   \n",
       "7  0  1467811594  Mon Apr 06 22:20:03 PDT 2009  NO_QUERY             coZZ   \n",
       "8  0  1467811795  Mon Apr 06 22:20:05 PDT 2009  NO_QUERY  2Hood4Hollywood   \n",
       "9  0  1467812025  Mon Apr 06 22:20:09 PDT 2009  NO_QUERY          mimismo   \n",
       "\n",
       "                                                   5  \n",
       "0  @switchfoot http://twitpic.com/2y1zl - Awww, t...  \n",
       "1  is upset that he can't update his Facebook by ...  \n",
       "2  @Kenichan I dived many times for the ball. Man...  \n",
       "3    my whole body feels itchy and like its on fire   \n",
       "4  @nationwideclass no, it's not behaving at all....  \n",
       "5                      @Kwesidei not the whole crew   \n",
       "6                                        Need a hug   \n",
       "7  @LOLTrish hey  long time no see! Yes.. Rains a...  \n",
       "8               @Tatiana_K nope they didn't have it   \n",
       "9                          @twittera que me muera ?   "
      ]
     },
     "execution_count": 4,
     "metadata": {},
     "output_type": "execute_result"
    }
   ],
   "source": [
    "df = pd.read_csv('/kaggle/input/sentiment140/training.1600000.processed.noemoticon.csv', encoding = 'latin', header = None)\n",
    "df.head(10)"
   ]
  },
  {
   "cell_type": "code",
   "execution_count": 5,
   "id": "86383df4",
   "metadata": {
    "execution": {
     "iopub.execute_input": "2024-06-09T20:47:47.996516Z",
     "iopub.status.busy": "2024-06-09T20:47:47.995855Z",
     "iopub.status.idle": "2024-06-09T20:47:48.008342Z",
     "shell.execute_reply": "2024-06-09T20:47:48.007458Z"
    },
    "papermill": {
     "duration": 0.026085,
     "end_time": "2024-06-09T20:47:48.010281",
     "exception": false,
     "start_time": "2024-06-09T20:47:47.984196",
     "status": "completed"
    },
    "tags": []
   },
   "outputs": [
    {
     "data": {
      "text/html": [
       "<div>\n",
       "<style scoped>\n",
       "    .dataframe tbody tr th:only-of-type {\n",
       "        vertical-align: middle;\n",
       "    }\n",
       "\n",
       "    .dataframe tbody tr th {\n",
       "        vertical-align: top;\n",
       "    }\n",
       "\n",
       "    .dataframe thead th {\n",
       "        text-align: right;\n",
       "    }\n",
       "</style>\n",
       "<table border=\"1\" class=\"dataframe\">\n",
       "  <thead>\n",
       "    <tr style=\"text-align: right;\">\n",
       "      <th></th>\n",
       "      <th>sentiment</th>\n",
       "      <th>id</th>\n",
       "      <th>date</th>\n",
       "      <th>query</th>\n",
       "      <th>user_id</th>\n",
       "      <th>text</th>\n",
       "    </tr>\n",
       "  </thead>\n",
       "  <tbody>\n",
       "    <tr>\n",
       "      <th>0</th>\n",
       "      <td>0</td>\n",
       "      <td>1467810369</td>\n",
       "      <td>Mon Apr 06 22:19:45 PDT 2009</td>\n",
       "      <td>NO_QUERY</td>\n",
       "      <td>_TheSpecialOne_</td>\n",
       "      <td>@switchfoot http://twitpic.com/2y1zl - Awww, t...</td>\n",
       "    </tr>\n",
       "    <tr>\n",
       "      <th>1</th>\n",
       "      <td>0</td>\n",
       "      <td>1467810672</td>\n",
       "      <td>Mon Apr 06 22:19:49 PDT 2009</td>\n",
       "      <td>NO_QUERY</td>\n",
       "      <td>scotthamilton</td>\n",
       "      <td>is upset that he can't update his Facebook by ...</td>\n",
       "    </tr>\n",
       "    <tr>\n",
       "      <th>2</th>\n",
       "      <td>0</td>\n",
       "      <td>1467810917</td>\n",
       "      <td>Mon Apr 06 22:19:53 PDT 2009</td>\n",
       "      <td>NO_QUERY</td>\n",
       "      <td>mattycus</td>\n",
       "      <td>@Kenichan I dived many times for the ball. Man...</td>\n",
       "    </tr>\n",
       "    <tr>\n",
       "      <th>3</th>\n",
       "      <td>0</td>\n",
       "      <td>1467811184</td>\n",
       "      <td>Mon Apr 06 22:19:57 PDT 2009</td>\n",
       "      <td>NO_QUERY</td>\n",
       "      <td>ElleCTF</td>\n",
       "      <td>my whole body feels itchy and like its on fire</td>\n",
       "    </tr>\n",
       "    <tr>\n",
       "      <th>4</th>\n",
       "      <td>0</td>\n",
       "      <td>1467811193</td>\n",
       "      <td>Mon Apr 06 22:19:57 PDT 2009</td>\n",
       "      <td>NO_QUERY</td>\n",
       "      <td>Karoli</td>\n",
       "      <td>@nationwideclass no, it's not behaving at all....</td>\n",
       "    </tr>\n",
       "    <tr>\n",
       "      <th>5</th>\n",
       "      <td>0</td>\n",
       "      <td>1467811372</td>\n",
       "      <td>Mon Apr 06 22:20:00 PDT 2009</td>\n",
       "      <td>NO_QUERY</td>\n",
       "      <td>joy_wolf</td>\n",
       "      <td>@Kwesidei not the whole crew</td>\n",
       "    </tr>\n",
       "    <tr>\n",
       "      <th>6</th>\n",
       "      <td>0</td>\n",
       "      <td>1467811592</td>\n",
       "      <td>Mon Apr 06 22:20:03 PDT 2009</td>\n",
       "      <td>NO_QUERY</td>\n",
       "      <td>mybirch</td>\n",
       "      <td>Need a hug</td>\n",
       "    </tr>\n",
       "    <tr>\n",
       "      <th>7</th>\n",
       "      <td>0</td>\n",
       "      <td>1467811594</td>\n",
       "      <td>Mon Apr 06 22:20:03 PDT 2009</td>\n",
       "      <td>NO_QUERY</td>\n",
       "      <td>coZZ</td>\n",
       "      <td>@LOLTrish hey  long time no see! Yes.. Rains a...</td>\n",
       "    </tr>\n",
       "    <tr>\n",
       "      <th>8</th>\n",
       "      <td>0</td>\n",
       "      <td>1467811795</td>\n",
       "      <td>Mon Apr 06 22:20:05 PDT 2009</td>\n",
       "      <td>NO_QUERY</td>\n",
       "      <td>2Hood4Hollywood</td>\n",
       "      <td>@Tatiana_K nope they didn't have it</td>\n",
       "    </tr>\n",
       "    <tr>\n",
       "      <th>9</th>\n",
       "      <td>0</td>\n",
       "      <td>1467812025</td>\n",
       "      <td>Mon Apr 06 22:20:09 PDT 2009</td>\n",
       "      <td>NO_QUERY</td>\n",
       "      <td>mimismo</td>\n",
       "      <td>@twittera que me muera ?</td>\n",
       "    </tr>\n",
       "  </tbody>\n",
       "</table>\n",
       "</div>"
      ],
      "text/plain": [
       "   sentiment          id                          date     query  \\\n",
       "0          0  1467810369  Mon Apr 06 22:19:45 PDT 2009  NO_QUERY   \n",
       "1          0  1467810672  Mon Apr 06 22:19:49 PDT 2009  NO_QUERY   \n",
       "2          0  1467810917  Mon Apr 06 22:19:53 PDT 2009  NO_QUERY   \n",
       "3          0  1467811184  Mon Apr 06 22:19:57 PDT 2009  NO_QUERY   \n",
       "4          0  1467811193  Mon Apr 06 22:19:57 PDT 2009  NO_QUERY   \n",
       "5          0  1467811372  Mon Apr 06 22:20:00 PDT 2009  NO_QUERY   \n",
       "6          0  1467811592  Mon Apr 06 22:20:03 PDT 2009  NO_QUERY   \n",
       "7          0  1467811594  Mon Apr 06 22:20:03 PDT 2009  NO_QUERY   \n",
       "8          0  1467811795  Mon Apr 06 22:20:05 PDT 2009  NO_QUERY   \n",
       "9          0  1467812025  Mon Apr 06 22:20:09 PDT 2009  NO_QUERY   \n",
       "\n",
       "           user_id                                               text  \n",
       "0  _TheSpecialOne_  @switchfoot http://twitpic.com/2y1zl - Awww, t...  \n",
       "1    scotthamilton  is upset that he can't update his Facebook by ...  \n",
       "2         mattycus  @Kenichan I dived many times for the ball. Man...  \n",
       "3          ElleCTF    my whole body feels itchy and like its on fire   \n",
       "4           Karoli  @nationwideclass no, it's not behaving at all....  \n",
       "5         joy_wolf                      @Kwesidei not the whole crew   \n",
       "6          mybirch                                        Need a hug   \n",
       "7             coZZ  @LOLTrish hey  long time no see! Yes.. Rains a...  \n",
       "8  2Hood4Hollywood               @Tatiana_K nope they didn't have it   \n",
       "9          mimismo                          @twittera que me muera ?   "
      ]
     },
     "execution_count": 5,
     "metadata": {},
     "output_type": "execute_result"
    }
   ],
   "source": [
    "df.columns = ['sentiment', 'id', 'date', 'query', 'user_id', 'text']\n",
    "df.head(10)"
   ]
  },
  {
   "cell_type": "code",
   "execution_count": 6,
   "id": "1dc0bfc6",
   "metadata": {
    "execution": {
     "iopub.execute_input": "2024-06-09T20:47:48.033788Z",
     "iopub.status.busy": "2024-06-09T20:47:48.033119Z",
     "iopub.status.idle": "2024-06-09T20:47:48.080164Z",
     "shell.execute_reply": "2024-06-09T20:47:48.079276Z"
    },
    "papermill": {
     "duration": 0.061132,
     "end_time": "2024-06-09T20:47:48.082446",
     "exception": false,
     "start_time": "2024-06-09T20:47:48.021314",
     "status": "completed"
    },
    "tags": []
   },
   "outputs": [
    {
     "data": {
      "text/html": [
       "<div>\n",
       "<style scoped>\n",
       "    .dataframe tbody tr th:only-of-type {\n",
       "        vertical-align: middle;\n",
       "    }\n",
       "\n",
       "    .dataframe tbody tr th {\n",
       "        vertical-align: top;\n",
       "    }\n",
       "\n",
       "    .dataframe thead th {\n",
       "        text-align: right;\n",
       "    }\n",
       "</style>\n",
       "<table border=\"1\" class=\"dataframe\">\n",
       "  <thead>\n",
       "    <tr style=\"text-align: right;\">\n",
       "      <th></th>\n",
       "      <th>sentiment</th>\n",
       "      <th>text</th>\n",
       "    </tr>\n",
       "  </thead>\n",
       "  <tbody>\n",
       "    <tr>\n",
       "      <th>0</th>\n",
       "      <td>0</td>\n",
       "      <td>@switchfoot http://twitpic.com/2y1zl - Awww, t...</td>\n",
       "    </tr>\n",
       "    <tr>\n",
       "      <th>1</th>\n",
       "      <td>0</td>\n",
       "      <td>is upset that he can't update his Facebook by ...</td>\n",
       "    </tr>\n",
       "    <tr>\n",
       "      <th>2</th>\n",
       "      <td>0</td>\n",
       "      <td>@Kenichan I dived many times for the ball. Man...</td>\n",
       "    </tr>\n",
       "    <tr>\n",
       "      <th>3</th>\n",
       "      <td>0</td>\n",
       "      <td>my whole body feels itchy and like its on fire</td>\n",
       "    </tr>\n",
       "    <tr>\n",
       "      <th>4</th>\n",
       "      <td>0</td>\n",
       "      <td>@nationwideclass no, it's not behaving at all....</td>\n",
       "    </tr>\n",
       "    <tr>\n",
       "      <th>5</th>\n",
       "      <td>0</td>\n",
       "      <td>@Kwesidei not the whole crew</td>\n",
       "    </tr>\n",
       "    <tr>\n",
       "      <th>6</th>\n",
       "      <td>0</td>\n",
       "      <td>Need a hug</td>\n",
       "    </tr>\n",
       "    <tr>\n",
       "      <th>7</th>\n",
       "      <td>0</td>\n",
       "      <td>@LOLTrish hey  long time no see! Yes.. Rains a...</td>\n",
       "    </tr>\n",
       "    <tr>\n",
       "      <th>8</th>\n",
       "      <td>0</td>\n",
       "      <td>@Tatiana_K nope they didn't have it</td>\n",
       "    </tr>\n",
       "    <tr>\n",
       "      <th>9</th>\n",
       "      <td>0</td>\n",
       "      <td>@twittera que me muera ?</td>\n",
       "    </tr>\n",
       "  </tbody>\n",
       "</table>\n",
       "</div>"
      ],
      "text/plain": [
       "   sentiment                                               text\n",
       "0          0  @switchfoot http://twitpic.com/2y1zl - Awww, t...\n",
       "1          0  is upset that he can't update his Facebook by ...\n",
       "2          0  @Kenichan I dived many times for the ball. Man...\n",
       "3          0    my whole body feels itchy and like its on fire \n",
       "4          0  @nationwideclass no, it's not behaving at all....\n",
       "5          0                      @Kwesidei not the whole crew \n",
       "6          0                                        Need a hug \n",
       "7          0  @LOLTrish hey  long time no see! Yes.. Rains a...\n",
       "8          0               @Tatiana_K nope they didn't have it \n",
       "9          0                          @twittera que me muera ? "
      ]
     },
     "execution_count": 6,
     "metadata": {},
     "output_type": "execute_result"
    }
   ],
   "source": [
    "df.drop(['id', 'date', 'query', 'user_id'], axis = 1, inplace = True)\n",
    "df.head(10)"
   ]
  },
  {
   "cell_type": "code",
   "execution_count": 7,
   "id": "95a296bb",
   "metadata": {
    "execution": {
     "iopub.execute_input": "2024-06-09T20:47:48.106941Z",
     "iopub.status.busy": "2024-06-09T20:47:48.106285Z",
     "iopub.status.idle": "2024-06-09T20:47:48.285684Z",
     "shell.execute_reply": "2024-06-09T20:47:48.284791Z"
    },
    "papermill": {
     "duration": 0.193976,
     "end_time": "2024-06-09T20:47:48.287836",
     "exception": false,
     "start_time": "2024-06-09T20:47:48.093860",
     "status": "completed"
    },
    "tags": []
   },
   "outputs": [
    {
     "name": "stdout",
     "output_type": "stream",
     "text": [
      "<class 'pandas.core.frame.DataFrame'>\n",
      "RangeIndex: 1600000 entries, 0 to 1599999\n",
      "Data columns (total 2 columns):\n",
      " #   Column     Non-Null Count    Dtype \n",
      "---  ------     --------------    ----- \n",
      " 0   sentiment  1600000 non-null  int64 \n",
      " 1   text       1600000 non-null  object\n",
      "dtypes: int64(1), object(1)\n",
      "memory usage: 24.4+ MB\n"
     ]
    }
   ],
   "source": [
    "df.info()"
   ]
  },
  {
   "cell_type": "code",
   "execution_count": 8,
   "id": "cb5603b0",
   "metadata": {
    "execution": {
     "iopub.execute_input": "2024-06-09T20:47:48.312091Z",
     "iopub.status.busy": "2024-06-09T20:47:48.311753Z",
     "iopub.status.idle": "2024-06-09T20:47:48.326340Z",
     "shell.execute_reply": "2024-06-09T20:47:48.325451Z"
    },
    "papermill": {
     "duration": 0.028735,
     "end_time": "2024-06-09T20:47:48.328338",
     "exception": false,
     "start_time": "2024-06-09T20:47:48.299603",
     "status": "completed"
    },
    "tags": []
   },
   "outputs": [
    {
     "data": {
      "text/plain": [
       "array([0, 4])"
      ]
     },
     "execution_count": 8,
     "metadata": {},
     "output_type": "execute_result"
    }
   ],
   "source": [
    "df.sentiment.unique()"
   ]
  },
  {
   "cell_type": "code",
   "execution_count": 9,
   "id": "8f54341f",
   "metadata": {
    "execution": {
     "iopub.execute_input": "2024-06-09T20:47:48.352248Z",
     "iopub.status.busy": "2024-06-09T20:47:48.351941Z",
     "iopub.status.idle": "2024-06-09T20:47:48.371830Z",
     "shell.execute_reply": "2024-06-09T20:47:48.371039Z"
    },
    "papermill": {
     "duration": 0.033852,
     "end_time": "2024-06-09T20:47:48.373773",
     "exception": false,
     "start_time": "2024-06-09T20:47:48.339921",
     "status": "completed"
    },
    "tags": []
   },
   "outputs": [
    {
     "data": {
      "text/plain": [
       "sentiment\n",
       "0    800000\n",
       "4    800000\n",
       "Name: count, dtype: int64"
      ]
     },
     "execution_count": 9,
     "metadata": {},
     "output_type": "execute_result"
    }
   ],
   "source": [
    "df.sentiment.value_counts()"
   ]
  },
  {
   "cell_type": "code",
   "execution_count": 10,
   "id": "f0ac6c8e",
   "metadata": {
    "execution": {
     "iopub.execute_input": "2024-06-09T20:47:48.397656Z",
     "iopub.status.busy": "2024-06-09T20:47:48.397364Z",
     "iopub.status.idle": "2024-06-09T20:47:48.766923Z",
     "shell.execute_reply": "2024-06-09T20:47:48.766090Z"
    },
    "papermill": {
     "duration": 0.384118,
     "end_time": "2024-06-09T20:47:48.769284",
     "exception": false,
     "start_time": "2024-06-09T20:47:48.385166",
     "status": "completed"
    },
    "tags": []
   },
   "outputs": [
    {
     "data": {
      "text/plain": [
       "<Axes: xlabel='sentiment', ylabel='count'>"
      ]
     },
     "execution_count": 10,
     "metadata": {},
     "output_type": "execute_result"
    },
    {
     "data": {
      "image/png": "[encoded data removed]",
      "text/plain": [
       "<Figure size 1200x600 with 1 Axes>"
      ]
     },
     "metadata": {},
     "output_type": "display_data"
    }
   ],
   "source": [
    "plt.figure(figsize = (12,6), dpi = 100)\n",
    "sns.countplot(x = 'sentiment', data = df)"
   ]
  },
  {
   "cell_type": "code",
   "execution_count": 11,
   "id": "37f6dd44",
   "metadata": {
    "execution": {
     "iopub.execute_input": "2024-06-09T20:47:48.795614Z",
     "iopub.status.busy": "2024-06-09T20:47:48.795271Z",
     "iopub.status.idle": "2024-06-09T20:47:49.256662Z",
     "shell.execute_reply": "2024-06-09T20:47:49.255800Z"
    },
    "papermill": {
     "duration": 0.477037,
     "end_time": "2024-06-09T20:47:49.258871",
     "exception": false,
     "start_time": "2024-06-09T20:47:48.781834",
     "status": "completed"
    },
    "tags": []
   },
   "outputs": [
    {
     "data": {
      "text/html": [
       "<div>\n",
       "<style scoped>\n",
       "    .dataframe tbody tr th:only-of-type {\n",
       "        vertical-align: middle;\n",
       "    }\n",
       "\n",
       "    .dataframe tbody tr th {\n",
       "        vertical-align: top;\n",
       "    }\n",
       "\n",
       "    .dataframe thead th {\n",
       "        text-align: right;\n",
       "    }\n",
       "</style>\n",
       "<table border=\"1\" class=\"dataframe\">\n",
       "  <thead>\n",
       "    <tr style=\"text-align: right;\">\n",
       "      <th></th>\n",
       "      <th>sentiment</th>\n",
       "      <th>text</th>\n",
       "    </tr>\n",
       "  </thead>\n",
       "  <tbody>\n",
       "    <tr>\n",
       "      <th>0</th>\n",
       "      <td>Negative</td>\n",
       "      <td>@switchfoot http://twitpic.com/2y1zl - Awww, t...</td>\n",
       "    </tr>\n",
       "    <tr>\n",
       "      <th>1</th>\n",
       "      <td>Negative</td>\n",
       "      <td>is upset that he can't update his Facebook by ...</td>\n",
       "    </tr>\n",
       "    <tr>\n",
       "      <th>2</th>\n",
       "      <td>Negative</td>\n",
       "      <td>@Kenichan I dived many times for the ball. Man...</td>\n",
       "    </tr>\n",
       "    <tr>\n",
       "      <th>3</th>\n",
       "      <td>Negative</td>\n",
       "      <td>my whole body feels itchy and like its on fire</td>\n",
       "    </tr>\n",
       "    <tr>\n",
       "      <th>4</th>\n",
       "      <td>Negative</td>\n",
       "      <td>@nationwideclass no, it's not behaving at all....</td>\n",
       "    </tr>\n",
       "    <tr>\n",
       "      <th>5</th>\n",
       "      <td>Negative</td>\n",
       "      <td>@Kwesidei not the whole crew</td>\n",
       "    </tr>\n",
       "    <tr>\n",
       "      <th>6</th>\n",
       "      <td>Negative</td>\n",
       "      <td>Need a hug</td>\n",
       "    </tr>\n",
       "    <tr>\n",
       "      <th>7</th>\n",
       "      <td>Negative</td>\n",
       "      <td>@LOLTrish hey  long time no see! Yes.. Rains a...</td>\n",
       "    </tr>\n",
       "    <tr>\n",
       "      <th>8</th>\n",
       "      <td>Negative</td>\n",
       "      <td>@Tatiana_K nope they didn't have it</td>\n",
       "    </tr>\n",
       "    <tr>\n",
       "      <th>9</th>\n",
       "      <td>Negative</td>\n",
       "      <td>@twittera que me muera ?</td>\n",
       "    </tr>\n",
       "  </tbody>\n",
       "</table>\n",
       "</div>"
      ],
      "text/plain": [
       "  sentiment                                               text\n",
       "0  Negative  @switchfoot http://twitpic.com/2y1zl - Awww, t...\n",
       "1  Negative  is upset that he can't update his Facebook by ...\n",
       "2  Negative  @Kenichan I dived many times for the ball. Man...\n",
       "3  Negative    my whole body feels itchy and like its on fire \n",
       "4  Negative  @nationwideclass no, it's not behaving at all....\n",
       "5  Negative                      @Kwesidei not the whole crew \n",
       "6  Negative                                        Need a hug \n",
       "7  Negative  @LOLTrish hey  long time no see! Yes.. Rains a...\n",
       "8  Negative               @Tatiana_K nope they didn't have it \n",
       "9  Negative                          @twittera que me muera ? "
      ]
     },
     "execution_count": 11,
     "metadata": {},
     "output_type": "execute_result"
    }
   ],
   "source": [
    "to_sentiment = {0: 'Negative', 4 : 'Positive'}\n",
    "def label_decoder(label):\n",
    "    return to_sentiment[label]\n",
    "\n",
    "df.sentiment = df.sentiment.apply(label_decoder)\n",
    "df.head(10)"
   ]
  },
  {
   "cell_type": "code",
   "execution_count": 12,
   "id": "8957fda2",
   "metadata": {
    "execution": {
     "iopub.execute_input": "2024-06-09T20:47:49.284770Z",
     "iopub.status.busy": "2024-06-09T20:47:49.284477Z",
     "iopub.status.idle": "2024-06-09T20:47:49.290211Z",
     "shell.execute_reply": "2024-06-09T20:47:49.289308Z"
    },
    "papermill": {
     "duration": 0.020762,
     "end_time": "2024-06-09T20:47:49.292163",
     "exception": false,
     "start_time": "2024-06-09T20:47:49.271401",
     "status": "completed"
    },
    "tags": []
   },
   "outputs": [
    {
     "data": {
      "text/plain": [
       "\"@switchfoot http://twitpic.com/2y1zl - Awww, that's a bummer.  You shoulda got David Carr of Third Day to do it. ;D\""
      ]
     },
     "execution_count": 12,
     "metadata": {},
     "output_type": "execute_result"
    }
   ],
   "source": [
    "df.text[0]"
   ]
  },
  {
   "cell_type": "code",
   "execution_count": 13,
   "id": "c7cc5077",
   "metadata": {
    "execution": {
     "iopub.execute_input": "2024-06-09T20:47:49.317769Z",
     "iopub.status.busy": "2024-06-09T20:47:49.317501Z",
     "iopub.status.idle": "2024-06-09T20:47:49.323834Z",
     "shell.execute_reply": "2024-06-09T20:47:49.322987Z"
    },
    "papermill": {
     "duration": 0.021083,
     "end_time": "2024-06-09T20:47:49.325673",
     "exception": false,
     "start_time": "2024-06-09T20:47:49.304590",
     "status": "completed"
    },
    "tags": []
   },
   "outputs": [
    {
     "data": {
      "text/plain": [
       "'awww that s a bummer you shoulda got david carr of third day to do it d'"
      ]
     },
     "execution_count": 13,
     "metadata": {},
     "output_type": "execute_result"
    }
   ],
   "source": [
    "text_cleaning_re = \"@\\S+|https?:\\S+|http?:\\S|[^A-Za-z0-9]+\"\n",
    "s = \"@switchfoot http://twitpic.com/2y1zl - Awww, that's a bummer.  You shoulda got David Carr of Third Day to do it. ;D\"\n",
    "s = re.sub(text_cleaning_re, ' ', str(s).lower()).strip()\n",
    "s"
   ]
  },
  {
   "cell_type": "code",
   "execution_count": 14,
   "id": "6a29ee34",
   "metadata": {
    "execution": {
     "iopub.execute_input": "2024-06-09T20:47:49.351778Z",
     "iopub.status.busy": "2024-06-09T20:47:49.351529Z",
     "iopub.status.idle": "2024-06-09T20:47:49.357704Z",
     "shell.execute_reply": "2024-06-09T20:47:49.357016Z"
    },
    "papermill": {
     "duration": 0.021443,
     "end_time": "2024-06-09T20:47:49.359513",
     "exception": false,
     "start_time": "2024-06-09T20:47:49.338070",
     "status": "completed"
    },
    "tags": []
   },
   "outputs": [],
   "source": [
    "text_cleaning_re = \"@\\S+|https?:\\S+|http?:\\S|[^A-Za-z0-9]+\"\n",
    "\n",
    "stop_words = stopwords.words('english')\n",
    "\n",
    "stemmer = SnowballStemmer('english')"
   ]
  },
  {
   "cell_type": "code",
   "execution_count": 15,
   "id": "85cad9fa",
   "metadata": {
    "execution": {
     "iopub.execute_input": "2024-06-09T20:47:49.385871Z",
     "iopub.status.busy": "2024-06-09T20:47:49.384938Z",
     "iopub.status.idle": "2024-06-09T20:47:49.390540Z",
     "shell.execute_reply": "2024-06-09T20:47:49.389838Z"
    },
    "papermill": {
     "duration": 0.020498,
     "end_time": "2024-06-09T20:47:49.392419",
     "exception": false,
     "start_time": "2024-06-09T20:47:49.371921",
     "status": "completed"
    },
    "tags": []
   },
   "outputs": [],
   "source": [
    "def preprocess(text, stem = False):\n",
    "    text = re.sub(text_cleaning_re, ' ', str(text).lower()).strip()\n",
    "    tokens = []\n",
    "    for word in text.split():\n",
    "        if word not in stop_words:\n",
    "            if stem:\n",
    "                tokens.append(stemmer.stem(word))\n",
    "            else:\n",
    "                tokens.append(word)\n",
    "                \n",
    "    return ' '.join(tokens)\n",
    "    \n",
    "    \n"
   ]
  },
  {
   "cell_type": "code",
   "execution_count": 16,
   "id": "3ada50fb",
   "metadata": {
    "execution": {
     "iopub.execute_input": "2024-06-09T20:47:49.418754Z",
     "iopub.status.busy": "2024-06-09T20:47:49.418128Z",
     "iopub.status.idle": "2024-06-09T20:47:49.423672Z",
     "shell.execute_reply": "2024-06-09T20:47:49.422900Z"
    },
    "papermill": {
     "duration": 0.020907,
     "end_time": "2024-06-09T20:47:49.425578",
     "exception": false,
     "start_time": "2024-06-09T20:47:49.404671",
     "status": "completed"
    },
    "tags": []
   },
   "outputs": [
    {
     "data": {
      "text/plain": [
       "'awww bummer shoulda got david carr third day'"
      ]
     },
     "execution_count": 16,
     "metadata": {},
     "output_type": "execute_result"
    }
   ],
   "source": [
    "s = \"@switchfoot http://twitpic.com/2y1zl - Awww, that's a bummer.  You shoulda got David Carr of Third Day to do it. ;D\"\n",
    "preprocess(s)"
   ]
  },
  {
   "cell_type": "code",
   "execution_count": 17,
   "id": "d4d32792",
   "metadata": {
    "execution": {
     "iopub.execute_input": "2024-06-09T20:47:49.451363Z",
     "iopub.status.busy": "2024-06-09T20:47:49.451117Z",
     "iopub.status.idle": "2024-06-09T20:48:48.382509Z",
     "shell.execute_reply": "2024-06-09T20:48:48.381580Z"
    },
    "papermill": {
     "duration": 58.959718,
     "end_time": "2024-06-09T20:48:48.397695",
     "exception": false,
     "start_time": "2024-06-09T20:47:49.437977",
     "status": "completed"
    },
    "tags": []
   },
   "outputs": [
    {
     "data": {
      "text/html": [
       "<div>\n",
       "<style scoped>\n",
       "    .dataframe tbody tr th:only-of-type {\n",
       "        vertical-align: middle;\n",
       "    }\n",
       "\n",
       "    .dataframe tbody tr th {\n",
       "        vertical-align: top;\n",
       "    }\n",
       "\n",
       "    .dataframe thead th {\n",
       "        text-align: right;\n",
       "    }\n",
       "</style>\n",
       "<table border=\"1\" class=\"dataframe\">\n",
       "  <thead>\n",
       "    <tr style=\"text-align: right;\">\n",
       "      <th></th>\n",
       "      <th>sentiment</th>\n",
       "      <th>text</th>\n",
       "    </tr>\n",
       "  </thead>\n",
       "  <tbody>\n",
       "    <tr>\n",
       "      <th>0</th>\n",
       "      <td>Negative</td>\n",
       "      <td>awww bummer shoulda got david carr third day</td>\n",
       "    </tr>\n",
       "    <tr>\n",
       "      <th>1</th>\n",
       "      <td>Negative</td>\n",
       "      <td>upset update facebook texting might cry result...</td>\n",
       "    </tr>\n",
       "    <tr>\n",
       "      <th>2</th>\n",
       "      <td>Negative</td>\n",
       "      <td>dived many times ball managed save 50 rest go ...</td>\n",
       "    </tr>\n",
       "    <tr>\n",
       "      <th>3</th>\n",
       "      <td>Negative</td>\n",
       "      <td>whole body feels itchy like fire</td>\n",
       "    </tr>\n",
       "    <tr>\n",
       "      <th>4</th>\n",
       "      <td>Negative</td>\n",
       "      <td>behaving mad see</td>\n",
       "    </tr>\n",
       "    <tr>\n",
       "      <th>5</th>\n",
       "      <td>Negative</td>\n",
       "      <td>whole crew</td>\n",
       "    </tr>\n",
       "    <tr>\n",
       "      <th>6</th>\n",
       "      <td>Negative</td>\n",
       "      <td>need hug</td>\n",
       "    </tr>\n",
       "    <tr>\n",
       "      <th>7</th>\n",
       "      <td>Negative</td>\n",
       "      <td>hey long time see yes rains bit bit lol fine t...</td>\n",
       "    </tr>\n",
       "    <tr>\n",
       "      <th>8</th>\n",
       "      <td>Negative</td>\n",
       "      <td>nope</td>\n",
       "    </tr>\n",
       "    <tr>\n",
       "      <th>9</th>\n",
       "      <td>Negative</td>\n",
       "      <td>que muera</td>\n",
       "    </tr>\n",
       "  </tbody>\n",
       "</table>\n",
       "</div>"
      ],
      "text/plain": [
       "  sentiment                                               text\n",
       "0  Negative       awww bummer shoulda got david carr third day\n",
       "1  Negative  upset update facebook texting might cry result...\n",
       "2  Negative  dived many times ball managed save 50 rest go ...\n",
       "3  Negative                   whole body feels itchy like fire\n",
       "4  Negative                                   behaving mad see\n",
       "5  Negative                                         whole crew\n",
       "6  Negative                                           need hug\n",
       "7  Negative  hey long time see yes rains bit bit lol fine t...\n",
       "8  Negative                                               nope\n",
       "9  Negative                                          que muera"
      ]
     },
     "execution_count": 17,
     "metadata": {},
     "output_type": "execute_result"
    }
   ],
   "source": [
    "df.text = df.text.apply(preprocess)\n",
    "df.head(10)"
   ]
  },
  {
   "cell_type": "code",
   "execution_count": 18,
   "id": "fc263f45",
   "metadata": {
    "execution": {
     "iopub.execute_input": "2024-06-09T20:48:48.424530Z",
     "iopub.status.busy": "2024-06-09T20:48:48.424212Z",
     "iopub.status.idle": "2024-06-09T20:48:48.428002Z",
     "shell.execute_reply": "2024-06-09T20:48:48.427172Z"
    },
    "papermill": {
     "duration": 0.019315,
     "end_time": "2024-06-09T20:48:48.429863",
     "exception": false,
     "start_time": "2024-06-09T20:48:48.410548",
     "status": "completed"
    },
    "tags": []
   },
   "outputs": [],
   "source": [
    "MAX_NB_WORDS = 100000\n",
    "MAX_SEQ_LENGTH = 30"
   ]
  },
  {
   "cell_type": "code",
   "execution_count": 19,
   "id": "370833d4",
   "metadata": {
    "execution": {
     "iopub.execute_input": "2024-06-09T20:48:48.456280Z",
     "iopub.status.busy": "2024-06-09T20:48:48.455986Z",
     "iopub.status.idle": "2024-06-09T20:48:48.766122Z",
     "shell.execute_reply": "2024-06-09T20:48:48.765063Z"
    },
    "papermill": {
     "duration": 0.325863,
     "end_time": "2024-06-09T20:48:48.768376",
     "exception": false,
     "start_time": "2024-06-09T20:48:48.442513",
     "status": "completed"
    },
    "tags": []
   },
   "outputs": [
    {
     "name": "stdout",
     "output_type": "stream",
     "text": [
      "Size of the training data :  1280000\n",
      "Size of the testing data  :  320000\n"
     ]
    }
   ],
   "source": [
    "train_data, test_data = train_test_split(df, test_size = 0.2, random_state = 5)\n",
    "print('Size of the training data : ', len(train_data))\n",
    "print('Size of the testing data  : ', len(test_data))\n"
   ]
  },
  {
   "cell_type": "code",
   "execution_count": 20,
   "id": "a584bdc2",
   "metadata": {
    "execution": {
     "iopub.execute_input": "2024-06-09T20:48:48.797388Z",
     "iopub.status.busy": "2024-06-09T20:48:48.796727Z",
     "iopub.status.idle": "2024-06-09T20:49:09.857665Z",
     "shell.execute_reply": "2024-06-09T20:49:09.856644Z"
    },
    "papermill": {
     "duration": 21.078252,
     "end_time": "2024-06-09T20:49:09.860096",
     "exception": false,
     "start_time": "2024-06-09T20:48:48.781844",
     "status": "completed"
    },
    "tags": []
   },
   "outputs": [],
   "source": [
    "tokenizer = Tokenizer()\n",
    "tokenizer.fit_on_texts(train_data.text)"
   ]
  },
  {
   "cell_type": "code",
   "execution_count": 21,
   "id": "75e72bad",
   "metadata": {
    "execution": {
     "iopub.execute_input": "2024-06-09T20:49:09.887471Z",
     "iopub.status.busy": "2024-06-09T20:49:09.887146Z",
     "iopub.status.idle": "2024-06-09T20:49:09.891939Z",
     "shell.execute_reply": "2024-06-09T20:49:09.891076Z"
    },
    "papermill": {
     "duration": 0.020473,
     "end_time": "2024-06-09T20:49:09.893836",
     "exception": false,
     "start_time": "2024-06-09T20:49:09.873363",
     "status": "completed"
    },
    "tags": []
   },
   "outputs": [
    {
     "name": "stdout",
     "output_type": "stream",
     "text": [
      "vocab size :  290739\n"
     ]
    }
   ],
   "source": [
    "word_index = tokenizer.word_index\n",
    "vocab_size = len(word_index)\n",
    "print('vocab size : ', vocab_size)"
   ]
  },
  {
   "cell_type": "code",
   "execution_count": 22,
   "id": "a621dd97",
   "metadata": {
    "execution": {
     "iopub.execute_input": "2024-06-09T20:49:09.920796Z",
     "iopub.status.busy": "2024-06-09T20:49:09.920501Z",
     "iopub.status.idle": "2024-06-09T20:49:39.347641Z",
     "shell.execute_reply": "2024-06-09T20:49:39.346824Z"
    },
    "papermill": {
     "duration": 29.443236,
     "end_time": "2024-06-09T20:49:39.350049",
     "exception": false,
     "start_time": "2024-06-09T20:49:09.906813",
     "status": "completed"
    },
    "tags": []
   },
   "outputs": [],
   "source": [
    "x_train = pad_sequences(tokenizer.texts_to_sequences(train_data.text), maxlen = MAX_SEQ_LENGTH)\n",
    "x_test  = pad_sequences(tokenizer.texts_to_sequences(test_data.text), maxlen = MAX_SEQ_LENGTH)"
   ]
  },
  {
   "cell_type": "code",
   "execution_count": 23,
   "id": "aaa156db",
   "metadata": {
    "execution": {
     "iopub.execute_input": "2024-06-09T20:49:39.377830Z",
     "iopub.status.busy": "2024-06-09T20:49:39.377489Z",
     "iopub.status.idle": "2024-06-09T20:49:39.382310Z",
     "shell.execute_reply": "2024-06-09T20:49:39.381445Z"
    },
    "papermill": {
     "duration": 0.021101,
     "end_time": "2024-06-09T20:49:39.384401",
     "exception": false,
     "start_time": "2024-06-09T20:49:39.363300",
     "status": "completed"
    },
    "tags": []
   },
   "outputs": [
    {
     "name": "stdout",
     "output_type": "stream",
     "text": [
      "Training data shape :  (1280000, 30)\n",
      "Testing data shape  :  (320000, 30)\n"
     ]
    }
   ],
   "source": [
    "print('Training data shape : ', x_train.shape)\n",
    "print('Testing data shape  : ', x_test.shape)\n"
   ]
  },
  {
   "cell_type": "code",
   "execution_count": 24,
   "id": "44510b59",
   "metadata": {
    "execution": {
     "iopub.execute_input": "2024-06-09T20:49:39.412423Z",
     "iopub.status.busy": "2024-06-09T20:49:39.411681Z",
     "iopub.status.idle": "2024-06-09T20:49:40.045940Z",
     "shell.execute_reply": "2024-06-09T20:49:40.045039Z"
    },
    "papermill": {
     "duration": 0.650538,
     "end_time": "2024-06-09T20:49:40.047921",
     "exception": false,
     "start_time": "2024-06-09T20:49:39.397383",
     "status": "completed"
    },
    "tags": []
   },
   "outputs": [
    {
     "data": {
      "text/html": [
       "<style>#sk-container-id-1 {color: black;background-color: white;}#sk-container-id-1 pre{padding: 0;}#sk-container-id-1 div.sk-toggleable {background-color: white;}#sk-container-id-1 label.sk-toggleable__label {cursor: pointer;display: block;width: 100%;margin-bottom: 0;padding: 0.3em;box-sizing: border-box;text-align: center;}#sk-container-id-1 label.sk-toggleable__label-arrow:before {content: \"▸\";float: left;margin-right: 0.25em;color: #696969;}#sk-container-id-1 label.sk-toggleable__label-arrow:hover:before {color: black;}#sk-container-id-1 div.sk-estimator:hover label.sk-toggleable__label-arrow:before {color: black;}#sk-container-id-1 div.sk-toggleable__content {max-height: 0;max-width: 0;overflow: hidden;text-align: left;background-color: #f0f8ff;}#sk-container-id-1 div.sk-toggleable__content pre {margin: 0.2em;color: black;border-radius: 0.25em;background-color: #f0f8ff;}#sk-container-id-1 input.sk-toggleable__control:checked~div.sk-toggleable__content {max-height: 200px;max-width: 100%;overflow: auto;}#sk-container-id-1 input.sk-toggleable__control:checked~label.sk-toggleable__label-arrow:before {content: \"▾\";}#sk-container-id-1 div.sk-estimator input.sk-toggleable__control:checked~label.sk-toggleable__label {background-color: #d4ebff;}#sk-container-id-1 div.sk-label input.sk-toggleable__control:checked~label.sk-toggleable__label {background-color: #d4ebff;}#sk-container-id-1 input.sk-hidden--visually {border: 0;clip: rect(1px 1px 1px 1px);clip: rect(1px, 1px, 1px, 1px);height: 1px;margin: -1px;overflow: hidden;padding: 0;position: absolute;width: 1px;}#sk-container-id-1 div.sk-estimator {font-family: monospace;background-color: #f0f8ff;border: 1px dotted black;border-radius: 0.25em;box-sizing: border-box;margin-bottom: 0.5em;}#sk-container-id-1 div.sk-estimator:hover {background-color: #d4ebff;}#sk-container-id-1 div.sk-parallel-item::after {content: \"\";width: 100%;border-bottom: 1px solid gray;flex-grow: 1;}#sk-container-id-1 div.sk-label:hover label.sk-toggleable__label {background-color: #d4ebff;}#sk-container-id-1 div.sk-serial::before {content: \"\";position: absolute;border-left: 1px solid gray;box-sizing: border-box;top: 0;bottom: 0;left: 50%;z-index: 0;}#sk-container-id-1 div.sk-serial {display: flex;flex-direction: column;align-items: center;background-color: white;padding-right: 0.2em;padding-left: 0.2em;position: relative;}#sk-container-id-1 div.sk-item {position: relative;z-index: 1;}#sk-container-id-1 div.sk-parallel {display: flex;align-items: stretch;justify-content: center;background-color: white;position: relative;}#sk-container-id-1 div.sk-item::before, #sk-container-id-1 div.sk-parallel-item::before {content: \"\";position: absolute;border-left: 1px solid gray;box-sizing: border-box;top: 0;bottom: 0;left: 50%;z-index: -1;}#sk-container-id-1 div.sk-parallel-item {display: flex;flex-direction: column;z-index: 1;position: relative;background-color: white;}#sk-container-id-1 div.sk-parallel-item:first-child::after {align-self: flex-end;width: 50%;}#sk-container-id-1 div.sk-parallel-item:last-child::after {align-self: flex-start;width: 50%;}#sk-container-id-1 div.sk-parallel-item:only-child::after {width: 0;}#sk-container-id-1 div.sk-dashed-wrapped {border: 1px dashed gray;margin: 0 0.4em 0.5em 0.4em;box-sizing: border-box;padding-bottom: 0.4em;background-color: white;}#sk-container-id-1 div.sk-label label {font-family: monospace;font-weight: bold;display: inline-block;line-height: 1.2em;}#sk-container-id-1 div.sk-label-container {text-align: center;}#sk-container-id-1 div.sk-container {/* jupyter's `normalize.less` sets `[hidden] { display: none; }` but bootstrap.min.css set `[hidden] { display: none !important; }` so we also need the `!important` here to be able to override the default hidden behavior on the sphinx rendered scikit-learn.org. See: https://github.com/scikit-learn/scikit-learn/issues/21755 */display: inline-block !important;position: relative;}#sk-container-id-1 div.sk-text-repr-fallback {display: none;}</style><div id=\"sk-container-id-1\" class=\"sk-top-container\"><div class=\"sk-text-repr-fallback\"><pre>LabelEncoder()</pre><b>In a Jupyter environment, please rerun this cell to show the HTML representation or trust the notebook. <br />On GitHub, the HTML representation is unable to render, please try loading this page with nbviewer.org.</b></div><div class=\"sk-container\" hidden><div class=\"sk-item\"><div class=\"sk-estimator sk-toggleable\"><input class=\"sk-toggleable__control sk-hidden--visually\" id=\"sk-estimator-id-1\" type=\"checkbox\" checked><label for=\"sk-estimator-id-1\" class=\"sk-toggleable__label sk-toggleable__label-arrow\">LabelEncoder</label><div class=\"sk-toggleable__content\"><pre>LabelEncoder()</pre></div></div></div></div></div>"
      ],
      "text/plain": [
       "LabelEncoder()"
      ]
     },
     "execution_count": 24,
     "metadata": {},
     "output_type": "execute_result"
    }
   ],
   "source": [
    "encoder = LabelEncoder()\n",
    "encoder.fit(train_data.sentiment.to_list())\n"
   ]
  },
  {
   "cell_type": "code",
   "execution_count": 25,
   "id": "78283da6",
   "metadata": {
    "execution": {
     "iopub.execute_input": "2024-06-09T20:49:40.075648Z",
     "iopub.status.busy": "2024-06-09T20:49:40.075349Z",
     "iopub.status.idle": "2024-06-09T20:49:41.425426Z",
     "shell.execute_reply": "2024-06-09T20:49:41.424400Z"
    },
    "papermill": {
     "duration": 1.366606,
     "end_time": "2024-06-09T20:49:41.427865",
     "exception": false,
     "start_time": "2024-06-09T20:49:40.061259",
     "status": "completed"
    },
    "tags": []
   },
   "outputs": [],
   "source": [
    "y_train = encoder.transform(train_data.sentiment.tolist())\n",
    "y_test  = encoder.transform(test_data.sentiment.tolist())"
   ]
  },
  {
   "cell_type": "code",
   "execution_count": 26,
   "id": "e48661f1",
   "metadata": {
    "execution": {
     "iopub.execute_input": "2024-06-09T20:49:41.456713Z",
     "iopub.status.busy": "2024-06-09T20:49:41.456403Z",
     "iopub.status.idle": "2024-06-09T20:49:41.460622Z",
     "shell.execute_reply": "2024-06-09T20:49:41.459769Z"
    },
    "papermill": {
     "duration": 0.020355,
     "end_time": "2024-06-09T20:49:41.462479",
     "exception": false,
     "start_time": "2024-06-09T20:49:41.442124",
     "status": "completed"
    },
    "tags": []
   },
   "outputs": [],
   "source": [
    "y_train = y_train.reshape(-1,1)\n",
    "y_test  = y_test.reshape(-1,1)\n",
    "\n"
   ]
  },
  {
   "cell_type": "code",
   "execution_count": 27,
   "id": "6e0d4365",
   "metadata": {
    "execution": {
     "iopub.execute_input": "2024-06-09T20:49:41.531311Z",
     "iopub.status.busy": "2024-06-09T20:49:41.530964Z",
     "iopub.status.idle": "2024-06-09T20:49:41.535878Z",
     "shell.execute_reply": "2024-06-09T20:49:41.534875Z"
    },
    "papermill": {
     "duration": 0.062257,
     "end_time": "2024-06-09T20:49:41.537795",
     "exception": false,
     "start_time": "2024-06-09T20:49:41.475538",
     "status": "completed"
    },
    "tags": []
   },
   "outputs": [
    {
     "name": "stdout",
     "output_type": "stream",
     "text": [
      "Training labels shape :  (1280000, 1)\n",
      "Testing labels shape :  (320000, 1)\n"
     ]
    }
   ],
   "source": [
    "print('Training labels shape : ', y_train.shape)\n",
    "print('Testing labels shape : ', y_test.shape)"
   ]
  },
  {
   "cell_type": "code",
   "execution_count": 28,
   "id": "507cce73",
   "metadata": {
    "execution": {
     "iopub.execute_input": "2024-06-09T20:49:41.565658Z",
     "iopub.status.busy": "2024-06-09T20:49:41.565388Z",
     "iopub.status.idle": "2024-06-09T20:52:42.049427Z",
     "shell.execute_reply": "2024-06-09T20:52:42.048341Z"
    },
    "papermill": {
     "duration": 180.500061,
     "end_time": "2024-06-09T20:52:42.051579",
     "exception": false,
     "start_time": "2024-06-09T20:49:41.551518",
     "status": "completed"
    },
    "tags": []
   },
   "outputs": [
    {
     "name": "stderr",
     "output_type": "stream",
     "text": [
      "/opt/conda/lib/python3.10/pty.py:89: RuntimeWarning: os.fork() was called. os.fork() is incompatible with multithreaded code, and JAX is multithreaded, so this will likely lead to a deadlock.\n",
      "  pid, fd = os.forkpty()\n"
     ]
    },
    {
     "name": "stdout",
     "output_type": "stream",
     "text": [
      "--2024-06-09 20:49:42--  http://nlp.stanford.edu/data/glove.6B.zip\r\n",
      "Resolving nlp.stanford.edu (nlp.stanford.edu)... 171.64.67.140\r\n",
      "Connecting to nlp.stanford.edu (nlp.stanford.edu)|171.64.67.140|:80... connected.\r\n",
      "HTTP request sent, awaiting response... 302 Found\r\n",
      "Location: https://nlp.stanford.edu/data/glove.6B.zip [following]\r\n",
      "--2024-06-09 20:49:42--  https://nlp.stanford.edu/data/glove.6B.zip\r\n",
      "Connecting to nlp.stanford.edu (nlp.stanford.edu)|171.64.67.140|:443... connected.\r\n",
      "HTTP request sent, awaiting response... 301 Moved Permanently\r\n",
      "Location: https://downloads.cs.stanford.edu/nlp/data/glove.6B.zip [following]\r\n",
      "--2024-06-09 20:49:42--  https://downloads.cs.stanford.edu/nlp/data/glove.6B.zip\r\n",
      "Resolving downloads.cs.stanford.edu (downloads.cs.stanford.edu)... 171.64.64.22\r\n",
      "Connecting to downloads.cs.stanford.edu (downloads.cs.stanford.edu)|171.64.64.22|:443... connected.\r\n",
      "HTTP request sent, awaiting response... 200 OK\r\n",
      "Length: 862182613 (822M) [application/zip]\r\n",
      "Saving to: 'glove.6B.zip'\r\n",
      "\r\n",
      "glove.6B.zip        100%[===================>] 822.24M  5.01MB/s    in 2m 39s  \r\n",
      "\r\n",
      "2024-06-09 20:52:21 (5.18 MB/s) - 'glove.6B.zip' saved [862182613/862182613]\r\n",
      "\r\n",
      "Archive:  glove.6B.zip\r\n",
      "  inflating: glove.6B.50d.txt        \r\n",
      "  inflating: glove.6B.100d.txt       \r\n",
      "  inflating: glove.6B.200d.txt       \r\n",
      "  inflating: glove.6B.300d.txt       \r\n"
     ]
    }
   ],
   "source": [
    "!wget http://nlp.stanford.edu/data/glove.6B.zip\n",
    "!unzip glove.6B.zip"
   ]
  },
  {
   "cell_type": "code",
   "execution_count": 29,
   "id": "69b41ca7",
   "metadata": {
    "execution": {
     "iopub.execute_input": "2024-06-09T20:52:42.202075Z",
     "iopub.status.busy": "2024-06-09T20:52:42.201130Z",
     "iopub.status.idle": "2024-06-09T20:52:42.206189Z",
     "shell.execute_reply": "2024-06-09T20:52:42.205297Z"
    },
    "papermill": {
     "duration": 0.082269,
     "end_time": "2024-06-09T20:52:42.208091",
     "exception": false,
     "start_time": "2024-06-09T20:52:42.125822",
     "status": "completed"
    },
    "tags": []
   },
   "outputs": [],
   "source": [
    "GLOVE_EMB = '/kaggle/working/glove.6B.300d.txt'"
   ]
  },
  {
   "cell_type": "code",
   "execution_count": 30,
   "id": "6aa62df2",
   "metadata": {
    "execution": {
     "iopub.execute_input": "2024-06-09T20:52:42.356618Z",
     "iopub.status.busy": "2024-06-09T20:52:42.356290Z",
     "iopub.status.idle": "2024-06-09T20:53:14.358925Z",
     "shell.execute_reply": "2024-06-09T20:53:14.357871Z"
    },
    "papermill": {
     "duration": 32.079732,
     "end_time": "2024-06-09T20:53:14.361359",
     "exception": false,
     "start_time": "2024-06-09T20:52:42.281627",
     "status": "completed"
    },
    "tags": []
   },
   "outputs": [],
   "source": [
    "embeddings_index = {}\n",
    "f = open(GLOVE_EMB)\n",
    "for line in f:\n",
    "    values = line.split()\n",
    "    word = values[0]\n",
    "    coefs = np.asarray(values[1:], dtype = 'float')\n",
    "    embeddings_index[word] = coefs\n",
    "f.close()"
   ]
  },
  {
   "cell_type": "code",
   "execution_count": 31,
   "id": "58bf371f",
   "metadata": {
    "execution": {
     "iopub.execute_input": "2024-06-09T20:53:14.510802Z",
     "iopub.status.busy": "2024-06-09T20:53:14.509921Z",
     "iopub.status.idle": "2024-06-09T20:53:15.046644Z",
     "shell.execute_reply": "2024-06-09T20:53:15.045606Z"
    },
    "papermill": {
     "duration": 0.613714,
     "end_time": "2024-06-09T20:53:15.049045",
     "exception": false,
     "start_time": "2024-06-09T20:53:14.435331",
     "status": "completed"
    },
    "tags": []
   },
   "outputs": [],
   "source": [
    "EMBEDDING_DIM = 300\n",
    "embedding_matrix = np.zeros((vocab_size, EMBEDDING_DIM))\n",
    "for word,token in word_index.items():\n",
    "    embedding_vector = embeddings_index.get(word)\n",
    "    if embedding_vector is not None:\n",
    "        embedding_matrix[token] = embedding_vector"
   ]
  },
  {
   "cell_type": "code",
   "execution_count": 32,
   "id": "fc49dc0f",
   "metadata": {
    "execution": {
     "iopub.execute_input": "2024-06-09T20:53:15.198764Z",
     "iopub.status.busy": "2024-06-09T20:53:15.198463Z",
     "iopub.status.idle": "2024-06-09T20:53:16.783449Z",
     "shell.execute_reply": "2024-06-09T20:53:16.782421Z"
    },
    "papermill": {
     "duration": 1.661842,
     "end_time": "2024-06-09T20:53:16.785808",
     "exception": false,
     "start_time": "2024-06-09T20:53:15.123966",
     "status": "completed"
    },
    "tags": []
   },
   "outputs": [
    {
     "name": "stderr",
     "output_type": "stream",
     "text": [
      "/opt/conda/lib/python3.10/site-packages/keras/src/layers/core/embedding.py:90: UserWarning: Argument `input_length` is deprecated. Just remove it.\n",
      "  warnings.warn(\n"
     ]
    }
   ],
   "source": [
    "        \n",
    "embedding_layer = Embedding(vocab_size,\n",
    "                            EMBEDDING_DIM,\n",
    "                            weights = [embedding_matrix],\n",
    "                            input_length = MAX_SEQ_LENGTH,\n",
    "                            trainable = False)"
   ]
  },
  {
   "cell_type": "code",
   "execution_count": null,
   "id": "312fc716",
   "metadata": {
    "papermill": {
     "duration": 0.07397,
     "end_time": "2024-06-09T20:53:16.936985",
     "exception": false,
     "start_time": "2024-06-09T20:53:16.863015",
     "status": "completed"
    },
    "tags": []
   },
   "outputs": [],
   "source": []
  },
  {
   "cell_type": "code",
   "execution_count": null,
   "id": "66b2f21b",
   "metadata": {
    "papermill": {
     "duration": 0.072914,
     "end_time": "2024-06-09T20:53:17.082670",
     "exception": false,
     "start_time": "2024-06-09T20:53:17.009756",
     "status": "completed"
    },
    "tags": []
   },
   "outputs": [],
   "source": []
  },
  {
   "cell_type": "code",
   "execution_count": null,
   "id": "c67efe4d",
   "metadata": {
    "papermill": {
     "duration": 0.072895,
     "end_time": "2024-06-09T20:53:17.228567",
     "exception": false,
     "start_time": "2024-06-09T20:53:17.155672",
     "status": "completed"
    },
    "tags": []
   },
   "outputs": [],
   "source": []
  },
  {
   "cell_type": "code",
   "execution_count": null,
   "id": "dc515b5e",
   "metadata": {
    "papermill": {
     "duration": 0.073332,
     "end_time": "2024-06-09T20:53:17.375129",
     "exception": false,
     "start_time": "2024-06-09T20:53:17.301797",
     "status": "completed"
    },
    "tags": []
   },
   "outputs": [],
   "source": []
  },
  {
   "cell_type": "code",
   "execution_count": null,
   "id": "5e8c7cf8",
   "metadata": {
    "papermill": {
     "duration": 0.073061,
     "end_time": "2024-06-09T20:53:17.521160",
     "exception": false,
     "start_time": "2024-06-09T20:53:17.448099",
     "status": "completed"
    },
    "tags": []
   },
   "outputs": [],
   "source": []
  },
  {
   "cell_type": "code",
   "execution_count": null,
   "id": "a4b6bfeb",
   "metadata": {
    "papermill": {
     "duration": 0.074791,
     "end_time": "2024-06-09T20:53:17.668808",
     "exception": false,
     "start_time": "2024-06-09T20:53:17.594017",
     "status": "completed"
    },
    "tags": []
   },
   "outputs": [],
   "source": []
  },
  {
   "cell_type": "code",
   "execution_count": null,
   "id": "83c92d08",
   "metadata": {
    "papermill": {
     "duration": 0.073935,
     "end_time": "2024-06-09T20:53:17.817278",
     "exception": false,
     "start_time": "2024-06-09T20:53:17.743343",
     "status": "completed"
    },
    "tags": []
   },
   "outputs": [],
   "source": []
  },
  {
   "cell_type": "code",
   "execution_count": null,
   "id": "cde3a970",
   "metadata": {
    "papermill": {
     "duration": 0.074376,
     "end_time": "2024-06-09T20:53:17.965989",
     "exception": false,
     "start_time": "2024-06-09T20:53:17.891613",
     "status": "completed"
    },
    "tags": []
   },
   "outputs": [],
   "source": []
  },
  {
   "cell_type": "code",
   "execution_count": null,
   "id": "3cb37e76",
   "metadata": {
    "papermill": {
     "duration": 0.073625,
     "end_time": "2024-06-09T20:53:18.113429",
     "exception": false,
     "start_time": "2024-06-09T20:53:18.039804",
     "status": "completed"
    },
    "tags": []
   },
   "outputs": [],
   "source": []
  }
 ],
 "metadata": {
  "kaggle": {
   "accelerator": "gpu",
   "dataSources": [
    {
     "datasetId": 2477,
     "sourceId": 4140,
     "sourceType": "datasetVersion"
    }
   ],
   "dockerImageVersionId": 30733,
   "isGpuEnabled": true,
   "isInternetEnabled": true,
   "language": "python",
   "sourceType": "notebook"
  },
  "kernelspec": {
   "display_name": "Python 3",
   "language": "python",
   "name": "python3"
  },
  "language_info": {
   "codemirror_mode": {
    "name": "ipython",
    "version": 3
   },
   "file_extension": ".py",
   "mimetype": "text/x-python",
   "name": "python",
   "nbconvert_exporter": "python",
   "pygments_lexer": "ipython3",
   "version": "3.10.13"
  },
  "papermill": {
   "default_parameters": {},
   "duration": 358.337127,
   "end_time": "2024-06-09T20:53:21.720927",
   "environment_variables": {},
   "exception": null,
   "input_path": "__notebook__.ipynb",
   "output_path": "__notebook__.ipynb",
   "parameters": {},
   "start_time": "2024-06-09T20:47:23.383800",
   "version": "2.5.0"
  }
 },
 "nbformat": 4,
 "nbformat_minor": 5
}
